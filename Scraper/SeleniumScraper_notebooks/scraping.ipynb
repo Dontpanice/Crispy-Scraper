{
 "cells": [
  {
   "cell_type": "code",
   "execution_count": 1,
   "id": "c45d52e2",
   "metadata": {},
   "outputs": [],
   "source": [
    "from selenium import webdriver\n",
    "from selenium.webdriver.common.by import By\n",
    "from selenium.webdriver.support.ui import WebDriverWait\n",
    "from selenium.webdriver.support import expected_conditions as EC\n",
    "from selenium_config import options, USERNAME, PASSWORD, PATTERN_BROAD_TEXT, PATTERN_LINK_TEXT\n",
    "from bs4 import BeautifulSoup\n",
    "import time\n",
    "import re\n",
    "#from scraper_functions import collect_data, scroll_to_bottom, driver_search, scroll_once, collect_page, collector, collect_elem_by_elem\n",
    "import pandas as pd"
   ]
  },
  {
   "cell_type": "code",
   "execution_count": 2,
   "id": "1c2f4178",
   "metadata": {},
   "outputs": [],
   "source": [
    "from selenium_config import PATTERN_BROAD_TEXT, PATTERN_LINK_TEXT, PATTERN_HEADLINE_TEXT\n",
    "import re\n",
    "import time\n",
    "import pandas as pd\n",
    "from selenium.webdriver.support import expected_conditions as EC\n",
    "from selenium.webdriver.support.ui import WebDriverWait\n",
    "from selenium.webdriver.common.by import By\n",
    "\n",
    "def collect_data(source_page):\n",
    "    title = re.findall(PATTERN_HEADLINE_TEXT, source_page)\n",
    "\n",
    "    collected = []\n",
    "    for match in re.finditer(PATTERN_BROAD_TEXT, source_page):\n",
    "        text = match.group() + \" \"\n",
    "        span = match.span()\n",
    "        data = (span, text)\n",
    "        collected.append(data)\n",
    "\n",
    "    if not collected:\n",
    "        return [\"NULL\"], \"NULL\"\n",
    "\n",
    "    # Find span for broad text\n",
    "    first_broad_span = collected[0][0][0]\n",
    "    last_broad_span = collected[-1][0][1]\n",
    "\n",
    "    # correct span for broad texts now when broadtext chunk span is found\n",
    "    collected = [((n[0][0] - first_broad_span, n[0][1] - first_broad_span), n[1]) for n in collected]\n",
    "\n",
    "    for match in re.finditer(PATTERN_LINK_TEXT, source_page[first_broad_span:last_broad_span]):\n",
    "        text = match.group() + \" \"\n",
    "        span = match.span()\n",
    "        data = (span, text)\n",
    "        collected.append(data)\n",
    "\n",
    "    collected.sort(key=lambda s: s[0])\n",
    "    text_final = \"\"\n",
    "    for data in collected:\n",
    "        text_final += data[1]\n",
    "\n",
    "    if not title:\n",
    "        title = [\"NULL\"]\n",
    "\n",
    "    return title[0], text_final\n",
    "\n",
    "\n",
    "def driver_search(driver, keywords=\"mord, göteborg\", search_box_class_name=\"css-9rv3gz\"):\n",
    "    time.sleep(1)\n",
    "    search = driver.find_element_by_class_name(search_box_class_name)\n",
    "    time.sleep(1)\n",
    "    search.send_keys(keywords)\n",
    "    search.submit()\n",
    "    time.sleep(1)\n",
    "\n",
    "\n",
    "def collect_elem_by_elem(driver, element_class):\n",
    "    try:\n",
    "        titles = []\n",
    "        texts=[]\n",
    "        print(\"\\n collecting...\")\n",
    "        # element = driver.find_element_by_class_name(element_class)\n",
    "        elems = WebDriverWait(driver, 10).until(EC.presence_of_all_elements_located((By.CSS_SELECTOR, \".css-3ks4jq [href]\")))\n",
    "        links = [elem.get_attribute('href') for elem in elems]\n",
    "        print(links)\n",
    "        last_elem = elems[-1]\n",
    "        print(\"location of last element\", last_elem.location)\n",
    "        # for e in range(len(elems)):\n",
    "\n",
    "        # get current main window handle\n",
    "        cur_win = driver.current_window_handle\n",
    "\n",
    "        for element in elems:\n",
    "            # WebDriverWait(driver, 10).until(EC.element_to_be_clickable(e))\n",
    "            # if elems[e].is_displayed():\n",
    "            #     print(\"IT IS DISPLAYED\", e)\n",
    "\n",
    "            driver.switch_to_window([win for win in driver.window_handles if win != cur_win[0]])\n",
    "            element.click()\n",
    "            # time.sleep(5)\n",
    "            # print(\"\\n SOURCE -->\", driver.page_source)\n",
    "            title, text = collect_data(driver.page_source)\n",
    "            titles.append(title)\n",
    "            texts.append(text)\n",
    "            df = pd.DataFrame()\n",
    "            df[\"titles\"] = titles\n",
    "            df[\"texts\"] = texts\n",
    "            df.to_csv(f\"./Collected/data.csv\")\n",
    "\n",
    "            driver.close()  # close new window\n",
    "            driver.switch_to_window(cur_win)  # switch back to main window\n",
    "\n",
    "\n",
    "        print(\"\\n Scrolling...\")\n",
    "        scroll_to_element(driver, last_elem)\n",
    "\n",
    "\n",
    "\n",
    "\n",
    "        print(\"\\n scrolling...\")\n",
    "    except RuntimeError:\n",
    "        print(\"Oops!  Something went wrong.  Try again...\")\n",
    "\n",
    "\n",
    "def scroll_to_element(driver, element):\n",
    "    # this scrolls until the element is in the middle of the page\n",
    "    desired_y = (element.size['height'] / 2) + element.location['y']\n",
    "    current_y = (driver.execute_script('return window.innerHeight') / 2) + driver.execute_script(\n",
    "        'return window.pageYOffset')\n",
    "    scroll_y_by = desired_y - current_y\n",
    "    driver.execute_script(\"window.scrollBy(0, arguments[0]);\", scroll_y_by)\n"
   ]
  },
  {
   "cell_type": "code",
   "execution_count": null,
   "id": "ee9172cb",
   "metadata": {},
   "outputs": [],
   "source": []
  },
  {
   "cell_type": "code",
   "execution_count": 3,
   "id": "e508bed1",
   "metadata": {},
   "outputs": [
    {
     "name": "stdout",
     "output_type": "stream",
     "text": [
      "\n",
      " searching...\n"
     ]
    }
   ],
   "source": [
    "DRIVER_PATH = \"./Chrome-driver/chromedriver.exe\"\n",
    "driver = webdriver.Chrome(options=options, executable_path=DRIVER_PATH)\n",
    "driver.get(\"https://www.aftonbladet.se/sok\")\n",
    "\n",
    "# Do the search\n",
    "driver_search(driver, keywords=\"mord, göteborg\", search_box_class_name=\"css-9rv3gz\")\n",
    "print(\"\\n searching...\")"
   ]
  },
  {
   "cell_type": "code",
   "execution_count": 4,
   "id": "d84772d5",
   "metadata": {},
   "outputs": [
    {
     "name": "stdout",
     "output_type": "stream",
     "text": [
      "\n",
      " collecting...\n",
      "['https://www.aftonbladet.se/nyheter/a/GGkbjq/anhallen-efter-misstankt-mord-i-goteborg', 'https://www.aftonbladet.se/nyheter/a/Qm5XXx/misstankt-mord-i-goteborg', 'https://www.aftonbladet.se/nyheter/a/Joyb46/misstankt-mord-i-goteborg', 'https://www.aftonbladet.se/nyheter/a/Al20Jx/man-gripen-for-mord-vid-heden-i-goteborg', 'https://www.aftonbladet.se/nyheter/a/rAkno3/atalas-for-mord-pa-kvinna-i-goteborg', 'https://www.aftonbladet.se/nyheter/a/0K9xkB/tva-haktade-for-mord-i-goteborg--en-anhallen', 'https://www.aftonbladet.se/nyheter/a/6zkwg3/man-atalad-for-mord-vid-heden-i-goteborg', 'https://www.aftonbladet.se/nyheter/a/P9Wq3b/misstankt-mord-i-centrala-goteborg', 'https://www.aftonbladet.se/nyheter/a/6jpKL8/dod-man-i-centrala-goteborg-utreds-som-mord', 'https://www.aftonbladet.se/nyheter/a/naOrX5/misstankt-mord-i-goteborg', 'https://www.aftonbladet.se/nyheter/a/8mVJmx/man-hittad-dod-i-bostad-i-goteborg--misstankt-mord', 'https://www.aftonbladet.se/nyheter/a/2GemPR/tva-haktade-efter-mord-pa-kvinna-i-goteborg', 'https://www.aftonbladet.se/nyheter/a/XgnX2m/man-haktad--sager-sig-inte-minnas-mord-i-goteborg', 'https://www.aftonbladet.se/nyheter/a/LA4QBR/knivman-atalas-for-mord-efter-dad-i-goteborg', 'https://www.aftonbladet.se/nyheter/a/O39bgb/dod-kvinna-hittad-i-skogsparti-i-sodra-goteborg--man-anhallen', 'https://www.aftonbladet.se/nyheter/a/dOQxwO/man-hittad-dod-utomhus-i-goteborg--misstankt-mord', 'https://www.aftonbladet.se/nyheter/a/rLaOdm/tonarsflicka-atalas-for-mord-i-goteborg', 'https://www.aftonbladet.se/nyheter/a/AdAVmM/skarpt-straff-for-knivmord', 'https://live.aftonbladet.se/supernytt/news/5ec81e8c7e2bea00122cc5ca', 'https://www.aftonbladet.se/nyheter/a/1742EK/man-skots-till-dods-i-gamlestaden--13-personer-doms']\n",
      "location of last element {'x': 644, 'y': 2311}\n"
     ]
    }
   ],
   "source": [
    "titles = []\n",
    "texts=[]\n",
    "print(\"\\n collecting...\")\n",
    "# element = driver.find_element_by_class_name(element_class)\n",
    "elems = WebDriverWait(driver, 10).until(EC.presence_of_all_elements_located((By.CSS_SELECTOR, \".css-3ks4jq [href]\")))\n",
    "links = [elem.get_attribute('href') for elem in elems]\n",
    "print(links)\n",
    "last_elem = elems[-1]\n",
    "print(\"location of last element\", last_elem.location)\n",
    "# for e in range(len(elems)):\n",
    "\n"
   ]
  },
  {
   "cell_type": "code",
   "execution_count": 5,
   "id": "4f45cbb2",
   "metadata": {},
   "outputs": [],
   "source": [
    "# get current main window handle\n",
    "cur_win = driver.current_window_handle"
   ]
  },
  {
   "cell_type": "code",
   "execution_count": 6,
   "id": "833b98c4",
   "metadata": {},
   "outputs": [
    {
     "data": {
      "text/plain": [
       "'CDwindow-EA112F23949BB3A4C891BED3D2CB651A'"
      ]
     },
     "execution_count": 6,
     "metadata": {},
     "output_type": "execute_result"
    }
   ],
   "source": [
    "cur_win"
   ]
  },
  {
   "cell_type": "code",
   "execution_count": 7,
   "id": "70cf0c03",
   "metadata": {},
   "outputs": [
    {
     "data": {
      "text/plain": [
       "['CDwindow-EA112F23949BB3A4C891BED3D2CB651A']"
      ]
     },
     "execution_count": 7,
     "metadata": {},
     "output_type": "execute_result"
    }
   ],
   "source": [
    "driver.window_handles"
   ]
  },
  {
   "cell_type": "code",
   "execution_count": null,
   "id": "0bc95c1e",
   "metadata": {},
   "outputs": [],
   "source": [
    "for element in elems:\n",
    "    # WebDriverWait(driver, 10).until(EC.element_to_be_clickable(e))\n",
    "    # if elems[e].is_displayed():\n",
    "    #     print(\"IT IS DISPLAYED\", e)\n",
    "\n",
    "    driver.switch_to_window([win for win in driver.window_handles if win != cur_win[0]])\n",
    "    element.click()\n",
    "    # time.sleep(5)\n",
    "    # print(\"\\n SOURCE -->\", driver.page_source)\n",
    "    title, text = collect_data(driver.page_source)\n",
    "    titles.append(title)\n",
    "    texts.append(text)\n",
    "    df = pd.DataFrame()\n",
    "    df[\"titles\"] = titles\n",
    "    df[\"texts\"] = texts\n",
    "    df.to_csv(f\"./Collected/data.csv\")\n",
    "\n",
    "    driver.close()  # close new window\n",
    "    driver.switch_to_window(cur_win)  # switch back to main window"
   ]
  },
  {
   "cell_type": "code",
   "execution_count": null,
   "id": "de88fe73",
   "metadata": {},
   "outputs": [],
   "source": []
  },
  {
   "cell_type": "code",
   "execution_count": null,
   "id": "c63c17a6",
   "metadata": {},
   "outputs": [],
   "source": []
  },
  {
   "cell_type": "code",
   "execution_count": null,
   "id": "6458067b",
   "metadata": {},
   "outputs": [],
   "source": []
  }
 ],
 "metadata": {
  "kernelspec": {
   "display_name": "Python 3 (ipykernel)",
   "language": "python",
   "name": "python3"
  },
  "language_info": {
   "codemirror_mode": {
    "name": "ipython",
    "version": 3
   },
   "file_extension": ".py",
   "mimetype": "text/x-python",
   "name": "python",
   "nbconvert_exporter": "python",
   "pygments_lexer": "ipython3",
   "version": "3.8.11"
  }
 },
 "nbformat": 4,
 "nbformat_minor": 5
}
