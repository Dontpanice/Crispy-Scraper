{
 "cells": [
  {
   "cell_type": "code",
   "execution_count": 1,
   "id": "1f7db6b1",
   "metadata": {},
   "outputs": [],
   "source": [
    "example = ('Navalnyj: Tvingas titta på tv i fängelset',\n",
    " 'Ryske oppositionsledaren Aleksej Navalnyj – som hålls fängslad – tvingas titta på statlig tv och propagandafilmer i mer än åtta timmar om dagen. Det säger Navalnyj i sin första intervju med en nyhetsredaktion sedan gripandet i januari. ',\n",
    " '\"2021-08-25T19:01:48Z\"')"
   ]
  },
  {
   "cell_type": "code",
   "execution_count": 5,
   "id": "eab5426e",
   "metadata": {},
   "outputs": [],
   "source": [
    "doc_example = {}\n",
    "doc_example[\"title\"], doc_example[\"article\"], doc_example[\"date\"] = example"
   ]
  },
  {
   "cell_type": "code",
   "execution_count": null,
   "id": "4faca033",
   "metadata": {},
   "outputs": [],
   "source": [
    "# settings.py"
   ]
  },
  {
   "cell_type": "code",
   "execution_count": 4,
   "id": "73640b27",
   "metadata": {},
   "outputs": [],
   "source": [
    "ITEM_PIPELINES = ['stack.pipelines.MongoDBPipeline', ]\n",
    "MONGODB_SERVER = \"localhost\"\n",
    "MONGODB_PORT = 27017\n",
    "MONGODB_DB = \"demo\"\n",
    "MONGODB_COLLECTION = \"articles\""
   ]
  },
  {
   "cell_type": "code",
   "execution_count": null,
   "id": "8e8f9904",
   "metadata": {},
   "outputs": [],
   "source": [
    "class GPCrawler(object):\n",
    "    name = \"gp-crawler\"\n",
    "    allowed_domains = [\"gp.se\"]\n",
    "    start_urls = [\n",
    "        \"http://stackoverflow.com/questions?pagesize=50&sort=newest\",\n",
    "    ]\n",
    "\n",
    "    def parse(self, response):\n",
    "        questions = Selector(response).xpath('//div[@class=\"summary\"]/h3')\n",
    "\n",
    "        for question in questions:\n",
    "            item = StackItem()\n",
    "            item['title'] = question.xpath(\n",
    "                'a[@class=\"question-hyperlink\"]/text()').extract()[0]\n",
    "            item['url'] = question.xpath(\n",
    "                'a[@class=\"question-hyperlink\"]/@href').extract()[0]\n",
    "            yield item"
   ]
  },
  {
   "cell_type": "code",
   "execution_count": 7,
   "id": "36f8dbb0",
   "metadata": {},
   "outputs": [],
   "source": [
    "import pymongo"
   ]
  },
  {
   "cell_type": "code",
   "execution_count": 8,
   "id": "fc9bbd8a",
   "metadata": {},
   "outputs": [],
   "source": [
    "connection = pymongo.MongoClient(\n",
    "    MONGODB_SERVER,\n",
    "    MONGODB_PORT\n",
    ")\n",
    "db = connection[MONGODB_DB]\n",
    "collection = db[MONGODB_COLLECTION]"
   ]
  },
  {
   "cell_type": "code",
   "execution_count": 11,
   "id": "b90787cb",
   "metadata": {},
   "outputs": [
    {
     "data": {
      "text/plain": [
       "Database(MongoClient(host=['localhost:27017'], document_class=dict, tz_aware=False, connect=True), 'demo')"
      ]
     },
     "execution_count": 11,
     "metadata": {},
     "output_type": "execute_result"
    }
   ],
   "source": [
    "db"
   ]
  },
  {
   "cell_type": "code",
   "execution_count": 10,
   "id": "bdfac673",
   "metadata": {},
   "outputs": [
    {
     "name": "stderr",
     "output_type": "stream",
     "text": [
      "/var/folders/5c/9jx1dk7n7z1ggrrgj_9r_jwr0000gn/T/ipykernel_24390/4052541203.py:1: DeprecationWarning: insert is deprecated. Use insert_one or insert_many instead.\n",
      "  collection.insert(dict(doc_example))\n"
     ]
    },
    {
     "data": {
      "text/plain": [
       "ObjectId('6142621dda0a849b47012611')"
      ]
     },
     "execution_count": 10,
     "metadata": {},
     "output_type": "execute_result"
    }
   ],
   "source": [
    "collection.insert(dict(doc_example))"
   ]
  },
  {
   "cell_type": "code",
   "execution_count": null,
   "id": "5a782def",
   "metadata": {},
   "outputs": [],
   "source": [
    "import pymongo\n",
    "\n",
    "class MongoDBPipeline(object):\n",
    "\n",
    "    def __init__(self):\n",
    "        connection = pymongo.MongoClient(\n",
    "            MONGODB_SERVER,\n",
    "            MONGODB_PORT\n",
    "        )\n",
    "        db = connection[MONGODB_DB]\n",
    "        self.collection = db[MONGODB_COLLECTION]\n",
    "\n",
    "    \n",
    "    \n",
    "    \n",
    "    \n",
    "    def process_item(self, item, spider):\n",
    "        valid = True\n",
    "        for data in item:\n",
    "            if not data:\n",
    "                valid = False\n",
    "                raise DropItem(\"Missing {0}!\".format(data))\n",
    "        if valid:\n",
    "            self.collection.insert(dict(item))\n",
    "            log.msg(\"Question added to MongoDB database!\",\n",
    "                    level=log.DEBUG, spider=spider)\n",
    "        return item"
   ]
  }
 ],
 "metadata": {
  "kernelspec": {
   "display_name": "sinos",
   "language": "python",
   "name": "sinos"
  },
  "language_info": {
   "codemirror_mode": {
    "name": "ipython",
    "version": 3
   },
   "file_extension": ".py",
   "mimetype": "text/x-python",
   "name": "python",
   "nbconvert_exporter": "python",
   "pygments_lexer": "ipython3",
   "version": "3.8.11"
  }
 },
 "nbformat": 4,
 "nbformat_minor": 5
}
