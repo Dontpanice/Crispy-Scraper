{
 "cells": [
  {
   "cell_type": "code",
   "execution_count": 35,
   "id": "4faca033",
   "metadata": {},
   "outputs": [],
   "source": [
    "import pymongo\n",
    "from pymongo import MongoClient\n",
    "import datetime\n",
    "import sys"
   ]
  },
  {
   "cell_type": "code",
   "execution_count": 36,
   "id": "1b0c716b",
   "metadata": {},
   "outputs": [],
   "source": [
    "from collect_data_from_links import get_links, extract_content"
   ]
  },
  {
   "cell_type": "code",
   "execution_count": 37,
   "id": "d4f606b4",
   "metadata": {},
   "outputs": [],
   "source": [
    "\"\"\"\n",
    "Connect to MongoDB database and add new news article with title, date and content to database. \n",
    "\"\"\"\n",
    "\n",
    "# Connect to MongoDB database\n",
    "client = MongoClient('localhost', 27017)\n",
    "db = client.news_db\n",
    "\n",
    "# Add new news article to database\n",
    "def add_news_articles(articles_list):\n",
    "    try:\n",
    "        db.news.insert_many(articles_list)\n",
    "        print(\"Articles added to database.\")\n",
    "    except:\n",
    "        print(\"Error: Could not add articles to database.\")\n",
    "        \n",
    "def add_news_article(article_dict):\n",
    "    try:\n",
    "        db.news.insert_one(article_dict)\n",
    "        print(\"Article added to database.\")\n",
    "    except:\n",
    "        print(\"Error: Could not add article to database.\")\n",
    "\n",
    "# Get news article from database\n",
    "def get_news_article(title):\n",
    "    try:\n",
    "        article = db.news.find_one({\"title\": title})\n",
    "        return article\n",
    "    except:\n",
    "        print(\"Error: Could not get article from database.\")\n",
    "\n",
    "# Get all news articles from database\n",
    "def get_all_news_articles():\n",
    "    try:\n",
    "        articles = db.news.find()\n",
    "        article_dict = [article for article in articles]\n",
    "        return article_dict\n",
    "    except:\n",
    "        print(\"Error: Could not get articles from database.\")\n",
    "\n",
    "# Delete news article from database\n",
    "def delete_news_article(title):\n",
    "    try:\n",
    "        db.news.delete_one({\"title\": title})\n",
    "        print(\"Article deleted from database.\")\n",
    "    except:\n",
    "        print(\"Error: Could not remove article from database.\")"
   ]
  },
  {
   "cell_type": "code",
   "execution_count": 25,
   "id": "cf1298f2",
   "metadata": {},
   "outputs": [
    {
     "name": "stdout",
     "output_type": "stream",
     "text": [
      "Current page: 1\n",
      "https://www.gp.se/nyheter/sverige?q=mord&page=1\n"
     ]
    }
   ],
   "source": [
    "links = get_links(\"mord\")"
   ]
  },
  {
   "cell_type": "code",
   "execution_count": 38,
   "id": "dd822282",
   "metadata": {},
   "outputs": [
    {
     "name": "stderr",
     "output_type": "stream",
     "text": [
      "Loading...: 100%|█████████████████████████████████████████████████████████████████████████| 9/9 [00:16<00:00,  1.85s/it]\n"
     ]
    }
   ],
   "source": [
    "extract_list = extract_content(links)"
   ]
  },
  {
   "cell_type": "code",
   "execution_count": 29,
   "id": "3f1fe535",
   "metadata": {},
   "outputs": [
    {
     "name": "stdout",
     "output_type": "stream",
     "text": [
      "Articles added to database.\n"
     ]
    }
   ],
   "source": [
    "add_news_articles(extract_list)"
   ]
  },
  {
   "cell_type": "code",
   "execution_count": 31,
   "id": "4e8e912c",
   "metadata": {},
   "outputs": [
    {
     "name": "stdout",
     "output_type": "stream",
     "text": [
      "Article deleted from database.\n"
     ]
    }
   ],
   "source": [
    "delete_news_article('Navalnyj: Tvingas titta på tv i fängelset')"
   ]
  },
  {
   "cell_type": "code",
   "execution_count": 34,
   "id": "dfb8b723",
   "metadata": {},
   "outputs": [
    {
     "data": {
      "text/plain": [
       "[{'_id': ObjectId('618709522ed967cc7526eee8'),\n",
       "  'date': datetime.datetime(2021, 11, 6, 20, 59, 26),\n",
       "  'title': 'Första domarna i jättelik maffiarättegång',\n",
       "  'article': \"I januari inleddes rättegången mot mängder av medlemmar i den ökända 'Ndrangheta-maffian i syditalienska Kalabrien. Dessutom var advokater, företagare och politiker åtalade. Åtalspunkterna omfattar bland annat mord, mordförsök, penningtvätt och utpressning.Rättegången hålls i en specialbyggd gigantisk säkerhetssal i staden Lamezia Terme.På lördagen föll domarna mot 91 åtalade, som hade gått med på att få en snabbare rättegång. Det innebar att deras straff skulle minskas med en tredjedel om de fälldes.– Av 91 åtalade var det 70 som sade sig vara oskyldiga som dömdes, säger åklagaren Nicola Gratteri till nyhetsbyrån Adnkronos.Han tillägger att de 21 som frikändes har haft mindre betydelsefulla roller.Nicola Gratteri, som lever med polisskydd, har utrett 'Ndrangheta i mer än 30 år.Sex personer dömdes till 20 års fängelse, det maximala straffet som åklagaren yrkat på.Men det är ytterligare 355 personer som är åtalade och som inte gått med på en snabb rättegång. Förhandlingarna väntas pågå i minst två år. Bland dem finns bland andra Luigi Mancuso, som pekas ut som ledare för en av de mäktigaste familjerna inom 'Ndrangheta-maffian.\"},\n",
       " {'_id': ObjectId('618709522ed967cc7526eee9'),\n",
       "  'date': datetime.datetime(2021, 11, 6, 17, 40, 48),\n",
       "  'title': 'Person anhållen för mord i Borlänge',\n",
       "  'article': 'En person har anhållits misstänkt för mord sedan en person hittats död i sin bostad i Borlänge under natten till lördagen.– Omständigheter på plats gör att vi fattat misstanke om att personen är bragd om livet, säger polisen Ola Olsson, som inte vill uttala sig om de inblandades kön eller ålder.Under morgontimmarna greps den misstänkta personen, som senare anhölls misstänkt för mord.Den misstänkta brottsplatsen är avspärrad och en teknisk undersökning genomförs under helgen.'},\n",
       " {'_id': ObjectId('618709522ed967cc7526eeea'),\n",
       "  'date': datetime.datetime(2021, 11, 6, 11, 35, 15),\n",
       "  'title': 'NULL',\n",
       "  'article': 'Olof Palme är en skugga i Netflix nya serie  '},\n",
       " {'_id': ObjectId('618709522ed967cc7526eeeb'),\n",
       "  'date': datetime.datetime(2021, 11, 6, 1, 33, 4),\n",
       "  'title': 'Rysk diplomat hittad död utanför ambassaden i Berlin',\n",
       "  'article': 'Den ryske diplomaten ska ha hittats livlös på en gata utanför den ryska ambassadens anläggning i centrala Berlin i mitten av oktober, men uppgifterna om dödsfallet blev kända först på fredagen.Tysklands utrikesdepartement uppgav att man kände till händelsen, men ville inte kommentera dödsfallet ytterligare. Mannen hittades på en gata nära avenyn Unter den Linden där den ryska ambassaden har bostäder och kontor för anställda. Den 35-årige mannen uppges ha fallit från ambassadkomplexets övre våningar, enligt tyska Der Spiegel.LÄS MER: Tyskland: Parkmord beställdes av MoskvaLÄS MER: Mordmisstänkta Ryssland utvisar diplomaterDiplomaten var officiellt andresekreterare på ambassaden, men enligt uppgifter till tidningen misstänkte tyska myndigheter att mannen också verkade för ryska underrättelsetjänsten FSB. Der Spiegel hävdar dessutom att diplomaten var släkt med en av underrättelsetjänstens högst uppsatta tjänstemän.FSB kopplas sedan tidigare till flera uppmärksammade dåd. Sommaren 2019 sköts den landsförvisade georgiern Zelimkhan Kanghoshvili ihjäl i centrala Berlin. Dödsskjutningen, även känt som Tiergarten-mordet, beskrevs som en ren avrättning beordrad av den ryska regeringen.FSB misstänks även, enligt Der Spiegel, ligga bakom förgiftningen av ryska oppositionsledaren Aleksej Navalnyj sommaren 2020. Navalnyj överlevde efter att ha försatts i koma på ett tyskt sjukhus, men har sedan återkomsten till Ryssland suttit fängslad.LÄS MER: Navalnyjs fängelsedom står fast'},\n",
       " {'_id': ObjectId('618709522ed967cc7526eeec'),\n",
       "  'date': datetime.datetime(2021, 11, 5, 21, 37, 47),\n",
       "  'title': 'Tre häktade för mord på rullstolsburen',\n",
       "  'article': 'Sedan tidigare har en man i 30-årsåldern suttit häktad misstänkt för mordförsök. I och med att offret avled har brottsrubriceringen ändrats till mord.Tidigare i veckan greps ytterligare två män som nu har häktats misstänkta för mord.– Så sammanlagt finns det tre personer häktade för inblandning i den här gärningen. Samtliga på sannolika skäl, säger åklagaren Magnus Natt och Dag till Aftonbladet.'},\n",
       " {'_id': ObjectId('618709522ed967cc7526eeed'),\n",
       "  'date': datetime.datetime(2021, 11, 5, 16, 25, 47),\n",
       "  'title': 'Fjärde gripen för mordet i Helsingborg',\n",
       "  'article': 'Ytterligare en person har gripits efter det att en 19-årig man sköts till döds i Helsingborg i mitten av oktober, rapporterar lokala medier.Sedan tidigare sitter tre anhållna misstänkta för mord, varav den yngste är 15 år. Två av dessa ingår i ett kriminellt nätverk i Åstorp med kopplingar till Helsingborg. Samtliga nekar till brott.Den senast gripne mannen har pekats ut som ledaren för ett kriminellt gäng och har tidigare dömts för flera narkotikabrott, rapporterar SVT Nyheter Helsingborg.'},\n",
       " {'_id': ObjectId('618709522ed967cc7526eeee'),\n",
       "  'date': datetime.datetime(2021, 11, 5, 16, 16, 48),\n",
       "  'title': 'Långt straff för norsk dubbelmördare',\n",
       "  'article': 'Mordoffren – en 42-årig man och en 29-årig kvinna – var ett par som bodde på ett övergångsboende för missbrukare i centrala Bergen. De hittades döda under en presenning utomhus, en bit utanför staden, dagen efter mordet.Mördaren hade bragt dem om livet med kniv och yxa på boendet och han var inte ensam om gärningen. En 34-årig man som var nattvakt på boendet döms till 17 års fängelse för att ha hjälpt till vid morden, bland annat genom att ha hämtat vapnen. En 24-årig man får nio års fängelse för att ha hållit vakt.58-åringen har enligt Bergens Tidende sagt att han kände sig lurad av mordoffren i samband med en narkotikaaffär. Men den oförrätten kan enligt tingsrätten inte på något vis vägas mot den brutalitet han uppvisade när han dödade dem. Under rättegången har åklagaren beskrivit morden som rena avrättningar.Ytterligare två män döms till kortare straff för att ha hjälpt till att transportera kropparna efter morden.'},\n",
       " {'_id': ObjectId('618709522ed967cc7526eeef'),\n",
       "  'date': datetime.datetime(2021, 11, 5, 13, 49, 48),\n",
       "  'title': 'Polisen utreder mordförsök efter Einármordet',\n",
       "  'article': 'I samband med mordet på den 19-årige artisten Einár misstänks ytterligare en person ha blivit utsatt för mordförsök, rapporterar Sveriges Radio Ekot.– Den personen var på brottsplatsen när skottlossningen pågick, säger åklagare Marina Chirakova till radion.Personen tilldelades ett juridiskt biträde på fredagen.Nils Grönberg, mer känd som rapparen Einár, sköts ihjäl med flera skott på nära håll i Hammarby sjöstad för två veckor sedan. Ingen person är gripen för mordet.'},\n",
       " {'_id': ObjectId('618709522ed967cc7526eef0'),\n",
       "  'date': datetime.datetime(2021, 11, 5, 12, 43, 48),\n",
       "  'title': 'Man dog efter husvagnsbrand – åtalas för mord',\n",
       "  'article': 'I mitten av juli dog en man efter en husvagnsbrand i Osby i Skåne. Nu åtalas en man i 50-årsåldern för mord och mordbrand, rapporterar P4 Kristianstad.Branden anlades mitt i natten och mannen som bodde där dog av skadorna. I stämningsansökan, som lämnats in till Hässleholms tingsrätt, yrkar åklagaren i andra hand på att den misstänkte ska fällas för grovt vållande till annans död.'}]"
      ]
     },
     "execution_count": 34,
     "metadata": {},
     "output_type": "execute_result"
    }
   ],
   "source": [
    "get_all_news_articles()"
   ]
  },
  {
   "cell_type": "code",
   "execution_count": 1,
   "id": "2b280e8f",
   "metadata": {},
   "outputs": [],
   "source": [
    "# Cloud Function setup"
   ]
  }
 ],
 "metadata": {
  "kernelspec": {
   "display_name": "sinos",
   "language": "python",
   "name": "sinos"
  },
  "language_info": {
   "codemirror_mode": {
    "name": "ipython",
    "version": 3
   },
   "file_extension": ".py",
   "mimetype": "text/x-python",
   "name": "python",
   "nbconvert_exporter": "python",
   "pygments_lexer": "ipython3",
   "version": "3.8.11"
  }
 },
 "nbformat": 4,
 "nbformat_minor": 5
}
