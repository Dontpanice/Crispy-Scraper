{
 "cells": [
  {
   "cell_type": "code",
   "execution_count": 13,
   "id": "f600c6aa",
   "metadata": {},
   "outputs": [],
   "source": [
    "import re\n",
    "import requests\n",
    "from bs4 import BeautifulSoup"
   ]
  },
  {
   "cell_type": "code",
   "execution_count": 14,
   "id": "8761b728",
   "metadata": {},
   "outputs": [],
   "source": [
    "# Set url\n",
    "url = \"https://gp.se\""
   ]
  },
  {
   "cell_type": "code",
   "execution_count": 15,
   "id": "dd3f783e",
   "metadata": {},
   "outputs": [],
   "source": [
    "# Request\n",
    "r1 = requests.get(url)\n",
    "r1.status_code\n",
    "# We'll save in coverpage the cover page content\n",
    "coverpage = r1.content"
   ]
  },
  {
   "cell_type": "code",
   "execution_count": 16,
   "id": "0dcc2408",
   "metadata": {
    "scrolled": false
   },
   "outputs": [],
   "source": [
    "# Soup creation\n",
    "soup1 = BeautifulSoup(coverpage, 'lxml')"
   ]
  },
  {
   "cell_type": "code",
   "execution_count": 17,
   "id": "8f807637",
   "metadata": {},
   "outputs": [],
   "source": [
    "# News identification\n",
    "coverpage_news = soup1.find_all('div', class_='c-small-breaking__teaser__title')"
   ]
  },
  {
   "cell_type": "code",
   "execution_count": 18,
   "id": "c955ec11",
   "metadata": {},
   "outputs": [],
   "source": [
    "#coverpage_news"
   ]
  },
  {
   "cell_type": "code",
   "execution_count": 19,
   "id": "aee7be53",
   "metadata": {},
   "outputs": [
    {
     "data": {
      "text/plain": [
       "'Butik rånad under pistolhot'"
      ]
     },
     "execution_count": 19,
     "metadata": {},
     "output_type": "execute_result"
    }
   ],
   "source": [
    "coverpage_news[0].get_text()"
   ]
  },
  {
   "cell_type": "code",
   "execution_count": 12,
   "id": "83249dc4",
   "metadata": {},
   "outputs": [],
   "source": [
    "# Search function implementation"
   ]
  },
  {
   "cell_type": "code",
   "execution_count": 20,
   "id": "59bcdb69",
   "metadata": {},
   "outputs": [],
   "source": [
    "query = \"mord\""
   ]
  },
  {
   "cell_type": "code",
   "execution_count": 69,
   "id": "a74ae825",
   "metadata": {},
   "outputs": [],
   "source": [
    "def get_links(query: str) -> list:\n",
    "    response = requests.get(f'https://www.gp.se/nyheter/västsverige?q={query}')\n",
    "    soup = BeautifulSoup(response.content)\n",
    "    # get the results count\n",
    "    num_results = soup.find('p', class_=re.compile('c-search-results__title')).text\n",
    "    num_results = [int(s) for s in num_results.split() if s.isdigit()][1]\n",
    "    results_per_page = 10\n",
    "\n",
    "    links = []\n",
    "    dates = []\n",
    "    for page in range(1, 2):#int(num_results/results_per_page) + 1):\n",
    "        print (\"Current page: \" + str(page))\n",
    "        url = f\"https://www.gp.se/nyheter/sverige?q={query}&page={page}\"\n",
    "        print(url)\n",
    "        response = requests.get(url)\n",
    "        soup = BeautifulSoup(response.content)\n",
    "        links += [\"https://gp.se\"+a.attrs.get('href') for\n",
    "                  a in soup.find_all('a', class_=re.compile('c-teaser__link'))]\n",
    "    return links"
   ]
  },
  {
   "cell_type": "code",
   "execution_count": 71,
   "id": "2222a00b",
   "metadata": {},
   "outputs": [
    {
     "name": "stdout",
     "output_type": "stream",
     "text": [
      "Current page: 1\n",
      "https://www.gp.se/nyheter/sverige?q=mord&page=1\n"
     ]
    },
    {
     "data": {
      "text/plain": [
       "['https://gp.se/nyheter/v%C3%A4rlden/f%C3%B6rsta-domarna-i-j%C3%A4ttelik-maffiar%C3%A4tteg%C3%A5ng-1.58701837',\n",
       " 'https://gp.se/nyheter/sverige/person-anh%C3%A5llen-f%C3%B6r-mord-i-borl%C3%A4nge-1.58679832',\n",
       " 'https://gp.se/kultur/kultur/tveksamt-att-netflix-pekar-ut-skandiamannen-som-m%C3%B6rdare-1.58607150',\n",
       " 'https://gp.se/nyheter/v%C3%A4rlden/rysk-diplomat-hittad-d%C3%B6d-utanf%C3%B6r-ambassaden-i-berlin-1.58648027',\n",
       " 'https://gp.se/nyheter/sverige/tre-h%C3%A4ktade-f%C3%B6r-mord-p%C3%A5-rullstolsburen-1.58645313',\n",
       " 'https://gp.se/nyheter/sverige/fj%C3%A4rde-gripen-f%C3%B6r-mordet-i-helsingborg-1.58627996',\n",
       " 'https://gp.se/nyheter/v%C3%A4rlden/l%C3%A5ngt-straff-f%C3%B6r-norsk-dubbelm%C3%B6rdare-1.58627611',\n",
       " 'https://gp.se/nyheter/sverige/polisen-utreder-mordf%C3%B6rs%C3%B6k-efter-ein%C3%A1rmordet-1.58616354',\n",
       " 'https://gp.se/nyheter/sverige/man-dog-efter-husvagnsbrand-%C3%A5talas-f%C3%B6r-mord-1.58608917']"
      ]
     },
     "execution_count": 71,
     "metadata": {},
     "output_type": "execute_result"
    }
   ],
   "source": [
    "get_links(query)"
   ]
  },
  {
   "cell_type": "code",
   "execution_count": null,
   "id": "e4b91ea2",
   "metadata": {},
   "outputs": [],
   "source": []
  }
 ],
 "metadata": {
  "kernelspec": {
   "display_name": "Python 3 (ipykernel)",
   "language": "python",
   "name": "python3"
  },
  "language_info": {
   "codemirror_mode": {
    "name": "ipython",
    "version": 3
   },
   "file_extension": ".py",
   "mimetype": "text/x-python",
   "name": "python",
   "nbconvert_exporter": "python",
   "pygments_lexer": "ipython3",
   "version": "3.8.11"
  }
 },
 "nbformat": 4,
 "nbformat_minor": 5
}
