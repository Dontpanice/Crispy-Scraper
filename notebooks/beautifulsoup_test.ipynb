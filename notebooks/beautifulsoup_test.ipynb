{
 "cells": [
  {
   "cell_type": "code",
   "execution_count": 1,
   "id": "f600c6aa",
   "metadata": {},
   "outputs": [],
   "source": [
    "import requests\n",
    "from bs4 import BeautifulSoup"
   ]
  },
  {
   "cell_type": "code",
   "execution_count": 2,
   "id": "8761b728",
   "metadata": {},
   "outputs": [],
   "source": [
    "# Gp.se\n",
    "url = \"https://gp.se\""
   ]
  },
  {
   "cell_type": "code",
   "execution_count": 3,
   "id": "dd3f783e",
   "metadata": {},
   "outputs": [],
   "source": [
    "# Request\n",
    "r1 = requests.get(url)\n",
    "r1.status_code\n",
    " \n",
    "# We'll save in coverpage the cover page content\n",
    "coverpage = r1.content"
   ]
  },
  {
   "cell_type": "code",
   "execution_count": 4,
   "id": "0dcc2408",
   "metadata": {
    "scrolled": false
   },
   "outputs": [],
   "source": [
    "# Soup creation\n",
    "soup1 = BeautifulSoup(coverpage, 'lxml')"
   ]
  },
  {
   "cell_type": "code",
   "execution_count": 10,
   "id": "8f807637",
   "metadata": {},
   "outputs": [],
   "source": [
    "# News identification\n",
    "coverpage_news = soup1.find_all('div', class_='c-small-breaking__teaser__title')"
   ]
  },
  {
   "cell_type": "code",
   "execution_count": 11,
   "id": "c955ec11",
   "metadata": {},
   "outputs": [
    {
     "data": {
      "text/plain": [
       "[<div class=\"c-small-breaking__teaser__title\">Kommunen avråder från populär badplats</div>,\n",
       " <div class=\"c-small-breaking__teaser__title\">\n",
       " <span class=\"c-small-breaking__teaser__label\">\n",
       "                                 Göteborg\n",
       "                             </span>\n",
       "                                                 Ryskt fartyg kränkte svenskt vatten utanför Göteborg\n",
       "                     </div>,\n",
       " <div class=\"c-small-breaking__teaser__title\">\n",
       " <span class=\"c-small-breaking__teaser__label\">\n",
       "                                 Göteborg\n",
       "                             </span>\n",
       "                                                 Kvinna utsatt för mordförsök vid Delsjön \n",
       "                     </div>,\n",
       " <div class=\"c-small-breaking__teaser__title\">\n",
       " <span class=\"c-small-breaking__teaser__label\">\n",
       "                                 Sport\n",
       "                             </span>\n",
       "                                                 Häcken dominerade återstarten – debutant målskytt\n",
       "                     </div>]"
      ]
     },
     "execution_count": 11,
     "metadata": {},
     "output_type": "execute_result"
    }
   ],
   "source": [
    "coverpage_news"
   ]
  },
  {
   "cell_type": "code",
   "execution_count": 12,
   "id": "aee7be53",
   "metadata": {},
   "outputs": [
    {
     "data": {
      "text/plain": [
       "'Kommunen avråder från populär badplats'"
      ]
     },
     "execution_count": 12,
     "metadata": {},
     "output_type": "execute_result"
    }
   ],
   "source": [
    "coverpage_news[0].get_text()"
   ]
  },
  {
   "cell_type": "code",
   "execution_count": null,
   "id": "83249dc4",
   "metadata": {},
   "outputs": [],
   "source": [
    "# Search function implementation"
   ]
  },
  {
   "cell_type": "code",
   "execution_count": 47,
   "id": "59bcdb69",
   "metadata": {},
   "outputs": [],
   "source": [
    "query = \"mordförsök\""
   ]
  },
  {
   "cell_type": "code",
   "execution_count": 48,
   "id": "c272bc0c",
   "metadata": {},
   "outputs": [],
   "source": [
    "import re\n",
    "from bs4 import BeautifulSoup\n",
    "import requests\n",
    "\n",
    "response = requests.get(f'https://www.gp.se/nyheter/sverige?q={query}')\n",
    "soup = BeautifulSoup(response.content)"
   ]
  },
  {
   "cell_type": "code",
   "execution_count": 49,
   "id": "10fd6302",
   "metadata": {},
   "outputs": [],
   "source": [
    "# get the results count\n",
    "num_results = soup.find('p', class_=re.compile('c-search-results__title')).text\n",
    "num_results = [int(s) for s in num_results.split() if s.isdigit()][1]"
   ]
  },
  {
   "cell_type": "code",
   "execution_count": 50,
   "id": "6fdc4214",
   "metadata": {},
   "outputs": [
    {
     "data": {
      "text/plain": [
       "7439"
      ]
     },
     "execution_count": 50,
     "metadata": {},
     "output_type": "execute_result"
    }
   ],
   "source": [
    "num_results"
   ]
  },
  {
   "cell_type": "code",
   "execution_count": 51,
   "id": "4d9960e9",
   "metadata": {},
   "outputs": [
    {
     "name": "stdout",
     "output_type": "stream",
     "text": [
      "Results found: 7439\n",
      "Current page: 1\n",
      "https://www.gp.se/nyheter/sverige?q=mordförsök&page=1\n",
      "Current page: 2\n",
      "https://www.gp.se/nyheter/sverige?q=mordförsök&page=2\n",
      "Current page: 3\n",
      "https://www.gp.se/nyheter/sverige?q=mordförsök&page=3\n",
      "Current page: 4\n",
      "https://www.gp.se/nyheter/sverige?q=mordförsök&page=4\n",
      "Current page: 5\n",
      "https://www.gp.se/nyheter/sverige?q=mordförsök&page=5\n",
      "Current page: 6\n",
      "https://www.gp.se/nyheter/sverige?q=mordförsök&page=6\n",
      "Current page: 7\n",
      "https://www.gp.se/nyheter/sverige?q=mordförsök&page=7\n",
      "Current page: 8\n",
      "https://www.gp.se/nyheter/sverige?q=mordförsök&page=8\n",
      "Current page: 9\n",
      "https://www.gp.se/nyheter/sverige?q=mordförsök&page=9\n",
      "Current page: 10\n",
      "https://www.gp.se/nyheter/sverige?q=mordförsök&page=10\n",
      "Current page: 11\n",
      "https://www.gp.se/nyheter/sverige?q=mordförsök&page=11\n",
      "Current page: 12\n",
      "https://www.gp.se/nyheter/sverige?q=mordförsök&page=12\n",
      "Current page: 13\n",
      "https://www.gp.se/nyheter/sverige?q=mordförsök&page=13\n",
      "Current page: 14\n",
      "https://www.gp.se/nyheter/sverige?q=mordförsök&page=14\n",
      "Current page: 15\n",
      "https://www.gp.se/nyheter/sverige?q=mordförsök&page=15\n",
      "Current page: 16\n",
      "https://www.gp.se/nyheter/sverige?q=mordförsök&page=16\n",
      "Current page: 17\n",
      "https://www.gp.se/nyheter/sverige?q=mordförsök&page=17\n",
      "Current page: 18\n",
      "https://www.gp.se/nyheter/sverige?q=mordförsök&page=18\n",
      "Current page: 19\n",
      "https://www.gp.se/nyheter/sverige?q=mordförsök&page=19\n",
      "Current page: 20\n",
      "https://www.gp.se/nyheter/sverige?q=mordförsök&page=20\n",
      "Current page: 21\n",
      "https://www.gp.se/nyheter/sverige?q=mordförsök&page=21\n"
     ]
    },
    {
     "ename": "KeyboardInterrupt",
     "evalue": "",
     "output_type": "error",
     "traceback": [
      "\u001b[0;31m---------------------------------------------------------------------------\u001b[0m",
      "\u001b[0;31mKeyboardInterrupt\u001b[0m                         Traceback (most recent call last)",
      "\u001b[0;32m/var/folders/5c/9jx1dk7n7z1ggrrgj_9r_jwr0000gn/T/ipykernel_87157/3468794289.py\u001b[0m in \u001b[0;36m<module>\u001b[0;34m\u001b[0m\n\u001b[1;32m     12\u001b[0m     \u001b[0murl\u001b[0m \u001b[0;34m=\u001b[0m \u001b[0;34mf\"https://www.gp.se/nyheter/sverige?q={query}&page={page}\"\u001b[0m\u001b[0;34m\u001b[0m\u001b[0;34m\u001b[0m\u001b[0m\n\u001b[1;32m     13\u001b[0m     \u001b[0mprint\u001b[0m\u001b[0;34m(\u001b[0m\u001b[0murl\u001b[0m\u001b[0;34m)\u001b[0m\u001b[0;34m\u001b[0m\u001b[0;34m\u001b[0m\u001b[0m\n\u001b[0;32m---> 14\u001b[0;31m     \u001b[0mresponse\u001b[0m \u001b[0;34m=\u001b[0m \u001b[0mrequests\u001b[0m\u001b[0;34m.\u001b[0m\u001b[0mget\u001b[0m\u001b[0;34m(\u001b[0m\u001b[0murl\u001b[0m\u001b[0;34m)\u001b[0m\u001b[0;34m\u001b[0m\u001b[0;34m\u001b[0m\u001b[0m\n\u001b[0m\u001b[1;32m     15\u001b[0m \u001b[0;34m\u001b[0m\u001b[0m\n\u001b[1;32m     16\u001b[0m     \u001b[0msoup\u001b[0m \u001b[0;34m=\u001b[0m \u001b[0mBeautifulSoup\u001b[0m\u001b[0;34m(\u001b[0m\u001b[0mresponse\u001b[0m\u001b[0;34m.\u001b[0m\u001b[0mcontent\u001b[0m\u001b[0;34m)\u001b[0m\u001b[0;34m\u001b[0m\u001b[0;34m\u001b[0m\u001b[0m\n",
      "\u001b[0;32m~/miniforge_x86_64/envs/sinos/lib/python3.8/site-packages/requests/api.py\u001b[0m in \u001b[0;36mget\u001b[0;34m(url, params, **kwargs)\u001b[0m\n\u001b[1;32m     73\u001b[0m     \"\"\"\n\u001b[1;32m     74\u001b[0m \u001b[0;34m\u001b[0m\u001b[0m\n\u001b[0;32m---> 75\u001b[0;31m     \u001b[0;32mreturn\u001b[0m \u001b[0mrequest\u001b[0m\u001b[0;34m(\u001b[0m\u001b[0;34m'get'\u001b[0m\u001b[0;34m,\u001b[0m \u001b[0murl\u001b[0m\u001b[0;34m,\u001b[0m \u001b[0mparams\u001b[0m\u001b[0;34m=\u001b[0m\u001b[0mparams\u001b[0m\u001b[0;34m,\u001b[0m \u001b[0;34m**\u001b[0m\u001b[0mkwargs\u001b[0m\u001b[0;34m)\u001b[0m\u001b[0;34m\u001b[0m\u001b[0;34m\u001b[0m\u001b[0m\n\u001b[0m\u001b[1;32m     76\u001b[0m \u001b[0;34m\u001b[0m\u001b[0m\n\u001b[1;32m     77\u001b[0m \u001b[0;34m\u001b[0m\u001b[0m\n",
      "\u001b[0;32m~/miniforge_x86_64/envs/sinos/lib/python3.8/site-packages/requests/api.py\u001b[0m in \u001b[0;36mrequest\u001b[0;34m(method, url, **kwargs)\u001b[0m\n\u001b[1;32m     59\u001b[0m     \u001b[0;31m# cases, and look like a memory leak in others.\u001b[0m\u001b[0;34m\u001b[0m\u001b[0;34m\u001b[0m\u001b[0;34m\u001b[0m\u001b[0m\n\u001b[1;32m     60\u001b[0m     \u001b[0;32mwith\u001b[0m \u001b[0msessions\u001b[0m\u001b[0;34m.\u001b[0m\u001b[0mSession\u001b[0m\u001b[0;34m(\u001b[0m\u001b[0;34m)\u001b[0m \u001b[0;32mas\u001b[0m \u001b[0msession\u001b[0m\u001b[0;34m:\u001b[0m\u001b[0;34m\u001b[0m\u001b[0;34m\u001b[0m\u001b[0m\n\u001b[0;32m---> 61\u001b[0;31m         \u001b[0;32mreturn\u001b[0m \u001b[0msession\u001b[0m\u001b[0;34m.\u001b[0m\u001b[0mrequest\u001b[0m\u001b[0;34m(\u001b[0m\u001b[0mmethod\u001b[0m\u001b[0;34m=\u001b[0m\u001b[0mmethod\u001b[0m\u001b[0;34m,\u001b[0m \u001b[0murl\u001b[0m\u001b[0;34m=\u001b[0m\u001b[0murl\u001b[0m\u001b[0;34m,\u001b[0m \u001b[0;34m**\u001b[0m\u001b[0mkwargs\u001b[0m\u001b[0;34m)\u001b[0m\u001b[0;34m\u001b[0m\u001b[0;34m\u001b[0m\u001b[0m\n\u001b[0m\u001b[1;32m     62\u001b[0m \u001b[0;34m\u001b[0m\u001b[0m\n\u001b[1;32m     63\u001b[0m \u001b[0;34m\u001b[0m\u001b[0m\n",
      "\u001b[0;32m~/miniforge_x86_64/envs/sinos/lib/python3.8/site-packages/requests/sessions.py\u001b[0m in \u001b[0;36mrequest\u001b[0;34m(self, method, url, params, data, headers, cookies, files, auth, timeout, allow_redirects, proxies, hooks, stream, verify, cert, json)\u001b[0m\n\u001b[1;32m    540\u001b[0m         }\n\u001b[1;32m    541\u001b[0m         \u001b[0msend_kwargs\u001b[0m\u001b[0;34m.\u001b[0m\u001b[0mupdate\u001b[0m\u001b[0;34m(\u001b[0m\u001b[0msettings\u001b[0m\u001b[0;34m)\u001b[0m\u001b[0;34m\u001b[0m\u001b[0;34m\u001b[0m\u001b[0m\n\u001b[0;32m--> 542\u001b[0;31m         \u001b[0mresp\u001b[0m \u001b[0;34m=\u001b[0m \u001b[0mself\u001b[0m\u001b[0;34m.\u001b[0m\u001b[0msend\u001b[0m\u001b[0;34m(\u001b[0m\u001b[0mprep\u001b[0m\u001b[0;34m,\u001b[0m \u001b[0;34m**\u001b[0m\u001b[0msend_kwargs\u001b[0m\u001b[0;34m)\u001b[0m\u001b[0;34m\u001b[0m\u001b[0;34m\u001b[0m\u001b[0m\n\u001b[0m\u001b[1;32m    543\u001b[0m \u001b[0;34m\u001b[0m\u001b[0m\n\u001b[1;32m    544\u001b[0m         \u001b[0;32mreturn\u001b[0m \u001b[0mresp\u001b[0m\u001b[0;34m\u001b[0m\u001b[0;34m\u001b[0m\u001b[0m\n",
      "\u001b[0;32m~/miniforge_x86_64/envs/sinos/lib/python3.8/site-packages/requests/sessions.py\u001b[0m in \u001b[0;36msend\u001b[0;34m(self, request, **kwargs)\u001b[0m\n\u001b[1;32m    653\u001b[0m \u001b[0;34m\u001b[0m\u001b[0m\n\u001b[1;32m    654\u001b[0m         \u001b[0;31m# Send the request\u001b[0m\u001b[0;34m\u001b[0m\u001b[0;34m\u001b[0m\u001b[0;34m\u001b[0m\u001b[0m\n\u001b[0;32m--> 655\u001b[0;31m         \u001b[0mr\u001b[0m \u001b[0;34m=\u001b[0m \u001b[0madapter\u001b[0m\u001b[0;34m.\u001b[0m\u001b[0msend\u001b[0m\u001b[0;34m(\u001b[0m\u001b[0mrequest\u001b[0m\u001b[0;34m,\u001b[0m \u001b[0;34m**\u001b[0m\u001b[0mkwargs\u001b[0m\u001b[0;34m)\u001b[0m\u001b[0;34m\u001b[0m\u001b[0;34m\u001b[0m\u001b[0m\n\u001b[0m\u001b[1;32m    656\u001b[0m \u001b[0;34m\u001b[0m\u001b[0m\n\u001b[1;32m    657\u001b[0m         \u001b[0;31m# Total elapsed time of the request (approximately)\u001b[0m\u001b[0;34m\u001b[0m\u001b[0;34m\u001b[0m\u001b[0;34m\u001b[0m\u001b[0m\n",
      "\u001b[0;32m~/miniforge_x86_64/envs/sinos/lib/python3.8/site-packages/requests/adapters.py\u001b[0m in \u001b[0;36msend\u001b[0;34m(self, request, stream, timeout, verify, cert, proxies)\u001b[0m\n\u001b[1;32m    437\u001b[0m         \u001b[0;32mtry\u001b[0m\u001b[0;34m:\u001b[0m\u001b[0;34m\u001b[0m\u001b[0;34m\u001b[0m\u001b[0m\n\u001b[1;32m    438\u001b[0m             \u001b[0;32mif\u001b[0m \u001b[0;32mnot\u001b[0m \u001b[0mchunked\u001b[0m\u001b[0;34m:\u001b[0m\u001b[0;34m\u001b[0m\u001b[0;34m\u001b[0m\u001b[0m\n\u001b[0;32m--> 439\u001b[0;31m                 resp = conn.urlopen(\n\u001b[0m\u001b[1;32m    440\u001b[0m                     \u001b[0mmethod\u001b[0m\u001b[0;34m=\u001b[0m\u001b[0mrequest\u001b[0m\u001b[0;34m.\u001b[0m\u001b[0mmethod\u001b[0m\u001b[0;34m,\u001b[0m\u001b[0;34m\u001b[0m\u001b[0;34m\u001b[0m\u001b[0m\n\u001b[1;32m    441\u001b[0m                     \u001b[0murl\u001b[0m\u001b[0;34m=\u001b[0m\u001b[0murl\u001b[0m\u001b[0;34m,\u001b[0m\u001b[0;34m\u001b[0m\u001b[0;34m\u001b[0m\u001b[0m\n",
      "\u001b[0;32m~/miniforge_x86_64/envs/sinos/lib/python3.8/site-packages/urllib3/connectionpool.py\u001b[0m in \u001b[0;36murlopen\u001b[0;34m(self, method, url, body, headers, retries, redirect, assert_same_host, timeout, pool_timeout, release_conn, chunked, body_pos, **response_kw)\u001b[0m\n\u001b[1;32m    697\u001b[0m \u001b[0;34m\u001b[0m\u001b[0m\n\u001b[1;32m    698\u001b[0m             \u001b[0;31m# Make the request on the httplib connection object.\u001b[0m\u001b[0;34m\u001b[0m\u001b[0;34m\u001b[0m\u001b[0;34m\u001b[0m\u001b[0m\n\u001b[0;32m--> 699\u001b[0;31m             httplib_response = self._make_request(\n\u001b[0m\u001b[1;32m    700\u001b[0m                 \u001b[0mconn\u001b[0m\u001b[0;34m,\u001b[0m\u001b[0;34m\u001b[0m\u001b[0;34m\u001b[0m\u001b[0m\n\u001b[1;32m    701\u001b[0m                 \u001b[0mmethod\u001b[0m\u001b[0;34m,\u001b[0m\u001b[0;34m\u001b[0m\u001b[0;34m\u001b[0m\u001b[0m\n",
      "\u001b[0;32m~/miniforge_x86_64/envs/sinos/lib/python3.8/site-packages/urllib3/connectionpool.py\u001b[0m in \u001b[0;36m_make_request\u001b[0;34m(self, conn, method, url, timeout, chunked, **httplib_request_kw)\u001b[0m\n\u001b[1;32m    443\u001b[0m                     \u001b[0;31m# Python 3 (including for exceptions like SystemExit).\u001b[0m\u001b[0;34m\u001b[0m\u001b[0;34m\u001b[0m\u001b[0;34m\u001b[0m\u001b[0m\n\u001b[1;32m    444\u001b[0m                     \u001b[0;31m# Otherwise it looks like a bug in the code.\u001b[0m\u001b[0;34m\u001b[0m\u001b[0;34m\u001b[0m\u001b[0;34m\u001b[0m\u001b[0m\n\u001b[0;32m--> 445\u001b[0;31m                     \u001b[0msix\u001b[0m\u001b[0;34m.\u001b[0m\u001b[0mraise_from\u001b[0m\u001b[0;34m(\u001b[0m\u001b[0me\u001b[0m\u001b[0;34m,\u001b[0m \u001b[0;32mNone\u001b[0m\u001b[0;34m)\u001b[0m\u001b[0;34m\u001b[0m\u001b[0;34m\u001b[0m\u001b[0m\n\u001b[0m\u001b[1;32m    446\u001b[0m         \u001b[0;32mexcept\u001b[0m \u001b[0;34m(\u001b[0m\u001b[0mSocketTimeout\u001b[0m\u001b[0;34m,\u001b[0m \u001b[0mBaseSSLError\u001b[0m\u001b[0;34m,\u001b[0m \u001b[0mSocketError\u001b[0m\u001b[0;34m)\u001b[0m \u001b[0;32mas\u001b[0m \u001b[0me\u001b[0m\u001b[0;34m:\u001b[0m\u001b[0;34m\u001b[0m\u001b[0;34m\u001b[0m\u001b[0m\n\u001b[1;32m    447\u001b[0m             \u001b[0mself\u001b[0m\u001b[0;34m.\u001b[0m\u001b[0m_raise_timeout\u001b[0m\u001b[0;34m(\u001b[0m\u001b[0merr\u001b[0m\u001b[0;34m=\u001b[0m\u001b[0me\u001b[0m\u001b[0;34m,\u001b[0m \u001b[0murl\u001b[0m\u001b[0;34m=\u001b[0m\u001b[0murl\u001b[0m\u001b[0;34m,\u001b[0m \u001b[0mtimeout_value\u001b[0m\u001b[0;34m=\u001b[0m\u001b[0mread_timeout\u001b[0m\u001b[0;34m)\u001b[0m\u001b[0;34m\u001b[0m\u001b[0;34m\u001b[0m\u001b[0m\n",
      "\u001b[0;32m~/miniforge_x86_64/envs/sinos/lib/python3.8/site-packages/urllib3/packages/six.py\u001b[0m in \u001b[0;36mraise_from\u001b[0;34m(value, from_value)\u001b[0m\n",
      "\u001b[0;32m~/miniforge_x86_64/envs/sinos/lib/python3.8/site-packages/urllib3/connectionpool.py\u001b[0m in \u001b[0;36m_make_request\u001b[0;34m(self, conn, method, url, timeout, chunked, **httplib_request_kw)\u001b[0m\n\u001b[1;32m    438\u001b[0m                 \u001b[0;31m# Python 3\u001b[0m\u001b[0;34m\u001b[0m\u001b[0;34m\u001b[0m\u001b[0;34m\u001b[0m\u001b[0m\n\u001b[1;32m    439\u001b[0m                 \u001b[0;32mtry\u001b[0m\u001b[0;34m:\u001b[0m\u001b[0;34m\u001b[0m\u001b[0;34m\u001b[0m\u001b[0m\n\u001b[0;32m--> 440\u001b[0;31m                     \u001b[0mhttplib_response\u001b[0m \u001b[0;34m=\u001b[0m \u001b[0mconn\u001b[0m\u001b[0;34m.\u001b[0m\u001b[0mgetresponse\u001b[0m\u001b[0;34m(\u001b[0m\u001b[0;34m)\u001b[0m\u001b[0;34m\u001b[0m\u001b[0;34m\u001b[0m\u001b[0m\n\u001b[0m\u001b[1;32m    441\u001b[0m                 \u001b[0;32mexcept\u001b[0m \u001b[0mBaseException\u001b[0m \u001b[0;32mas\u001b[0m \u001b[0me\u001b[0m\u001b[0;34m:\u001b[0m\u001b[0;34m\u001b[0m\u001b[0;34m\u001b[0m\u001b[0m\n\u001b[1;32m    442\u001b[0m                     \u001b[0;31m# Remove the TypeError from the exception chain in\u001b[0m\u001b[0;34m\u001b[0m\u001b[0;34m\u001b[0m\u001b[0;34m\u001b[0m\u001b[0m\n",
      "\u001b[0;32m~/miniforge_x86_64/envs/sinos/lib/python3.8/http/client.py\u001b[0m in \u001b[0;36mgetresponse\u001b[0;34m(self)\u001b[0m\n\u001b[1;32m   1346\u001b[0m         \u001b[0;32mtry\u001b[0m\u001b[0;34m:\u001b[0m\u001b[0;34m\u001b[0m\u001b[0;34m\u001b[0m\u001b[0m\n\u001b[1;32m   1347\u001b[0m             \u001b[0;32mtry\u001b[0m\u001b[0;34m:\u001b[0m\u001b[0;34m\u001b[0m\u001b[0;34m\u001b[0m\u001b[0m\n\u001b[0;32m-> 1348\u001b[0;31m                 \u001b[0mresponse\u001b[0m\u001b[0;34m.\u001b[0m\u001b[0mbegin\u001b[0m\u001b[0;34m(\u001b[0m\u001b[0;34m)\u001b[0m\u001b[0;34m\u001b[0m\u001b[0;34m\u001b[0m\u001b[0m\n\u001b[0m\u001b[1;32m   1349\u001b[0m             \u001b[0;32mexcept\u001b[0m \u001b[0mConnectionError\u001b[0m\u001b[0;34m:\u001b[0m\u001b[0;34m\u001b[0m\u001b[0;34m\u001b[0m\u001b[0m\n\u001b[1;32m   1350\u001b[0m                 \u001b[0mself\u001b[0m\u001b[0;34m.\u001b[0m\u001b[0mclose\u001b[0m\u001b[0;34m(\u001b[0m\u001b[0;34m)\u001b[0m\u001b[0;34m\u001b[0m\u001b[0;34m\u001b[0m\u001b[0m\n",
      "\u001b[0;32m~/miniforge_x86_64/envs/sinos/lib/python3.8/http/client.py\u001b[0m in \u001b[0;36mbegin\u001b[0;34m(self)\u001b[0m\n\u001b[1;32m    314\u001b[0m         \u001b[0;31m# read until we get a non-100 response\u001b[0m\u001b[0;34m\u001b[0m\u001b[0;34m\u001b[0m\u001b[0;34m\u001b[0m\u001b[0m\n\u001b[1;32m    315\u001b[0m         \u001b[0;32mwhile\u001b[0m \u001b[0;32mTrue\u001b[0m\u001b[0;34m:\u001b[0m\u001b[0;34m\u001b[0m\u001b[0;34m\u001b[0m\u001b[0m\n\u001b[0;32m--> 316\u001b[0;31m             \u001b[0mversion\u001b[0m\u001b[0;34m,\u001b[0m \u001b[0mstatus\u001b[0m\u001b[0;34m,\u001b[0m \u001b[0mreason\u001b[0m \u001b[0;34m=\u001b[0m \u001b[0mself\u001b[0m\u001b[0;34m.\u001b[0m\u001b[0m_read_status\u001b[0m\u001b[0;34m(\u001b[0m\u001b[0;34m)\u001b[0m\u001b[0;34m\u001b[0m\u001b[0;34m\u001b[0m\u001b[0m\n\u001b[0m\u001b[1;32m    317\u001b[0m             \u001b[0;32mif\u001b[0m \u001b[0mstatus\u001b[0m \u001b[0;34m!=\u001b[0m \u001b[0mCONTINUE\u001b[0m\u001b[0;34m:\u001b[0m\u001b[0;34m\u001b[0m\u001b[0;34m\u001b[0m\u001b[0m\n\u001b[1;32m    318\u001b[0m                 \u001b[0;32mbreak\u001b[0m\u001b[0;34m\u001b[0m\u001b[0;34m\u001b[0m\u001b[0m\n",
      "\u001b[0;32m~/miniforge_x86_64/envs/sinos/lib/python3.8/http/client.py\u001b[0m in \u001b[0;36m_read_status\u001b[0;34m(self)\u001b[0m\n\u001b[1;32m    275\u001b[0m \u001b[0;34m\u001b[0m\u001b[0m\n\u001b[1;32m    276\u001b[0m     \u001b[0;32mdef\u001b[0m \u001b[0m_read_status\u001b[0m\u001b[0;34m(\u001b[0m\u001b[0mself\u001b[0m\u001b[0;34m)\u001b[0m\u001b[0;34m:\u001b[0m\u001b[0;34m\u001b[0m\u001b[0;34m\u001b[0m\u001b[0m\n\u001b[0;32m--> 277\u001b[0;31m         \u001b[0mline\u001b[0m \u001b[0;34m=\u001b[0m \u001b[0mstr\u001b[0m\u001b[0;34m(\u001b[0m\u001b[0mself\u001b[0m\u001b[0;34m.\u001b[0m\u001b[0mfp\u001b[0m\u001b[0;34m.\u001b[0m\u001b[0mreadline\u001b[0m\u001b[0;34m(\u001b[0m\u001b[0m_MAXLINE\u001b[0m \u001b[0;34m+\u001b[0m \u001b[0;36m1\u001b[0m\u001b[0;34m)\u001b[0m\u001b[0;34m,\u001b[0m \u001b[0;34m\"iso-8859-1\"\u001b[0m\u001b[0;34m)\u001b[0m\u001b[0;34m\u001b[0m\u001b[0;34m\u001b[0m\u001b[0m\n\u001b[0m\u001b[1;32m    278\u001b[0m         \u001b[0;32mif\u001b[0m \u001b[0mlen\u001b[0m\u001b[0;34m(\u001b[0m\u001b[0mline\u001b[0m\u001b[0;34m)\u001b[0m \u001b[0;34m>\u001b[0m \u001b[0m_MAXLINE\u001b[0m\u001b[0;34m:\u001b[0m\u001b[0;34m\u001b[0m\u001b[0;34m\u001b[0m\u001b[0m\n\u001b[1;32m    279\u001b[0m             \u001b[0;32mraise\u001b[0m \u001b[0mLineTooLong\u001b[0m\u001b[0;34m(\u001b[0m\u001b[0;34m\"status line\"\u001b[0m\u001b[0;34m)\u001b[0m\u001b[0;34m\u001b[0m\u001b[0;34m\u001b[0m\u001b[0m\n",
      "\u001b[0;32m~/miniforge_x86_64/envs/sinos/lib/python3.8/socket.py\u001b[0m in \u001b[0;36mreadinto\u001b[0;34m(self, b)\u001b[0m\n\u001b[1;32m    667\u001b[0m         \u001b[0;32mwhile\u001b[0m \u001b[0;32mTrue\u001b[0m\u001b[0;34m:\u001b[0m\u001b[0;34m\u001b[0m\u001b[0;34m\u001b[0m\u001b[0m\n\u001b[1;32m    668\u001b[0m             \u001b[0;32mtry\u001b[0m\u001b[0;34m:\u001b[0m\u001b[0;34m\u001b[0m\u001b[0;34m\u001b[0m\u001b[0m\n\u001b[0;32m--> 669\u001b[0;31m                 \u001b[0;32mreturn\u001b[0m \u001b[0mself\u001b[0m\u001b[0;34m.\u001b[0m\u001b[0m_sock\u001b[0m\u001b[0;34m.\u001b[0m\u001b[0mrecv_into\u001b[0m\u001b[0;34m(\u001b[0m\u001b[0mb\u001b[0m\u001b[0;34m)\u001b[0m\u001b[0;34m\u001b[0m\u001b[0;34m\u001b[0m\u001b[0m\n\u001b[0m\u001b[1;32m    670\u001b[0m             \u001b[0;32mexcept\u001b[0m \u001b[0mtimeout\u001b[0m\u001b[0;34m:\u001b[0m\u001b[0;34m\u001b[0m\u001b[0;34m\u001b[0m\u001b[0m\n\u001b[1;32m    671\u001b[0m                 \u001b[0mself\u001b[0m\u001b[0;34m.\u001b[0m\u001b[0m_timeout_occurred\u001b[0m \u001b[0;34m=\u001b[0m \u001b[0;32mTrue\u001b[0m\u001b[0;34m\u001b[0m\u001b[0;34m\u001b[0m\u001b[0m\n",
      "\u001b[0;32m~/miniforge_x86_64/envs/sinos/lib/python3.8/ssl.py\u001b[0m in \u001b[0;36mrecv_into\u001b[0;34m(self, buffer, nbytes, flags)\u001b[0m\n\u001b[1;32m   1239\u001b[0m                   \u001b[0;34m\"non-zero flags not allowed in calls to recv_into() on %s\"\u001b[0m \u001b[0;34m%\u001b[0m\u001b[0;34m\u001b[0m\u001b[0;34m\u001b[0m\u001b[0m\n\u001b[1;32m   1240\u001b[0m                   self.__class__)\n\u001b[0;32m-> 1241\u001b[0;31m             \u001b[0;32mreturn\u001b[0m \u001b[0mself\u001b[0m\u001b[0;34m.\u001b[0m\u001b[0mread\u001b[0m\u001b[0;34m(\u001b[0m\u001b[0mnbytes\u001b[0m\u001b[0;34m,\u001b[0m \u001b[0mbuffer\u001b[0m\u001b[0;34m)\u001b[0m\u001b[0;34m\u001b[0m\u001b[0;34m\u001b[0m\u001b[0m\n\u001b[0m\u001b[1;32m   1242\u001b[0m         \u001b[0;32melse\u001b[0m\u001b[0;34m:\u001b[0m\u001b[0;34m\u001b[0m\u001b[0;34m\u001b[0m\u001b[0m\n\u001b[1;32m   1243\u001b[0m             \u001b[0;32mreturn\u001b[0m \u001b[0msuper\u001b[0m\u001b[0;34m(\u001b[0m\u001b[0;34m)\u001b[0m\u001b[0;34m.\u001b[0m\u001b[0mrecv_into\u001b[0m\u001b[0;34m(\u001b[0m\u001b[0mbuffer\u001b[0m\u001b[0;34m,\u001b[0m \u001b[0mnbytes\u001b[0m\u001b[0;34m,\u001b[0m \u001b[0mflags\u001b[0m\u001b[0;34m)\u001b[0m\u001b[0;34m\u001b[0m\u001b[0;34m\u001b[0m\u001b[0m\n",
      "\u001b[0;32m~/miniforge_x86_64/envs/sinos/lib/python3.8/ssl.py\u001b[0m in \u001b[0;36mread\u001b[0;34m(self, len, buffer)\u001b[0m\n\u001b[1;32m   1097\u001b[0m         \u001b[0;32mtry\u001b[0m\u001b[0;34m:\u001b[0m\u001b[0;34m\u001b[0m\u001b[0;34m\u001b[0m\u001b[0m\n\u001b[1;32m   1098\u001b[0m             \u001b[0;32mif\u001b[0m \u001b[0mbuffer\u001b[0m \u001b[0;32mis\u001b[0m \u001b[0;32mnot\u001b[0m \u001b[0;32mNone\u001b[0m\u001b[0;34m:\u001b[0m\u001b[0;34m\u001b[0m\u001b[0;34m\u001b[0m\u001b[0m\n\u001b[0;32m-> 1099\u001b[0;31m                 \u001b[0;32mreturn\u001b[0m \u001b[0mself\u001b[0m\u001b[0;34m.\u001b[0m\u001b[0m_sslobj\u001b[0m\u001b[0;34m.\u001b[0m\u001b[0mread\u001b[0m\u001b[0;34m(\u001b[0m\u001b[0mlen\u001b[0m\u001b[0;34m,\u001b[0m \u001b[0mbuffer\u001b[0m\u001b[0;34m)\u001b[0m\u001b[0;34m\u001b[0m\u001b[0;34m\u001b[0m\u001b[0m\n\u001b[0m\u001b[1;32m   1100\u001b[0m             \u001b[0;32melse\u001b[0m\u001b[0;34m:\u001b[0m\u001b[0;34m\u001b[0m\u001b[0;34m\u001b[0m\u001b[0m\n\u001b[1;32m   1101\u001b[0m                 \u001b[0;32mreturn\u001b[0m \u001b[0mself\u001b[0m\u001b[0;34m.\u001b[0m\u001b[0m_sslobj\u001b[0m\u001b[0;34m.\u001b[0m\u001b[0mread\u001b[0m\u001b[0;34m(\u001b[0m\u001b[0mlen\u001b[0m\u001b[0;34m)\u001b[0m\u001b[0;34m\u001b[0m\u001b[0;34m\u001b[0m\u001b[0m\n",
      "\u001b[0;31mKeyboardInterrupt\u001b[0m: "
     ]
    }
   ],
   "source": [
    "# get the results count\n",
    "#num_results = soup.find('span', class_=re.compile('resultNum')).text\n",
    "#num_results = int(re.search('(\\d+)', num_results).group(1))\n",
    "print (\"Results found: \" + str(num_results))\n",
    "\n",
    "results_per_page = 10\n",
    "\n",
    "links = []\n",
    "for page in range(1, int(num_results/results_per_page) + 1):\n",
    "    print (\"Current page: \" + str(page))\n",
    "\n",
    "    url = f\"https://www.gp.se/nyheter/sverige?q={query}&page={page}\"\n",
    "    print(url)\n",
    "    response = requests.get(url)\n",
    "\n",
    "    soup = BeautifulSoup(response.content)\n",
    "    links += [a.attrs.get('href') for a in soup.find_all('a', class_=re.compile('c-teaser__link'))]"
   ]
  },
  {
   "cell_type": "code",
   "execution_count": 52,
   "id": "ca6c6398",
   "metadata": {},
   "outputs": [
    {
     "data": {
      "text/plain": [
       "['/nyheter/v%C3%A4rlden/navalnyj-tvingas-titta-p%C3%A5-tv-i-f%C3%A4ngelset-1.53513690',\n",
       " '/nyheter/sverige/man-knivhuggen-vid-bussh%C3%A5llplats-en-gripen-1.53406583',\n",
       " '/nyheter/sverige/kvinna-brutalt-%C3%B6verfallen-av-ok%C3%A4nd-man-1.53509375',\n",
       " '/nyheter/g%C3%B6teborg/kvinna-utsatt-f%C3%B6r-mordf%C3%B6rs%C3%B6k-vid-delsj%C3%B6n-sk%C3%A4rpt-bevakning-1.53498728',\n",
       " '/nyheter/sverige/misst%C3%A4nkt-mordf%C3%B6rs%C3%B6k-i-%C3%B6stersund-1.53449455',\n",
       " '/nyheter/g%C3%B6teborg/ali-khan-kopplad-man-tagen-vid-vapeng%C3%B6mma-kissade-1.53424108',\n",
       " '/nyheter/sverige/skolchef-g%C3%A4rningsmannen-utl%C3%B6ste-brandlarmet-1.53431830',\n",
       " '/nyheter/v%C3%A4rlden/studenter-f%C3%B6rgiftade-p%C3%A5-tyskt-universitet-1.53418412',\n",
       " '/nyheter/v%C3%A4rlden/sju-personer-f%C3%B6rgiftade-p%C3%A5-tyskt-universitet-1.53414413',\n",
       " '/nyheter/sverige/h%C3%A4ktade-pojken-i-esl%C3%B6v-har-l%C3%A4mnat-f%C3%B6rklaring-1.53347560',\n",
       " '/nyheter/sverige/%C3%A5klagare-finns-uppgifter-om-motiv-till-esl%C3%B6vd%C3%A5d-1.53293853',\n",
       " '/nyheter/sverige/epa-f%C3%B6rare-f%C3%B6rs%C3%B6kte-k%C3%B6ra-p%C3%A5-polis-1.53296817',\n",
       " '/nyheter/sverige/esl%C3%B6v-15-%C3%A5ringen-beg%C3%A4rd-h%C3%A4ktad-1.53271630',\n",
       " '/nyheter/sverige/skjutning-i-uppsala-utreds-som-mordf%C3%B6rs%C3%B6k-1.53265867',\n",
       " '/nyheter/v%C3%A4stsverige/misst%C3%A4nkt-mordf%C3%B6rs%C3%B6k-man-kritiskt-skadad-1.53250500',\n",
       " '/nyheter/sverige/en-h%C3%A4ktad-f%C3%B6r-mordf%C3%B6rs%C3%B6k-i-upplands-v%C3%A4sby-1.53214006',\n",
       " '/nyheter/g%C3%B6teborg/skottlossningen-i-%C3%B6rgryte-kopplad-till-den-undre-v%C3%A4rlden-1.53206679',\n",
       " '/sport/pojkar-gripna-f%C3%B6r-knivattacken-p%C3%A5-rugbyprofilen-1.53198587',\n",
       " '/nyheter/sverige/tv%C3%A5-anh%C3%A5llna-efter-br%C3%A5k-i-g%C3%B6teborg-1.53191758',\n",
       " '/nyheter/sverige/barnen-v%C3%A4lkomnas-tillbaka-till-skolan-en-f%C3%B6rf%C3%A4rligt-hemsk-h%C3%A4ndelse-1.53176306',\n",
       " '/nyheter/g%C3%B6teborg/g%C3%B6mde-pistol-i-odlingsl%C3%A5da-avsl%C3%B6jades-av-dr%C3%B6nare-1.53143355',\n",
       " '/nyheter/g%C3%B6teborg/sex-m%C3%B6rdade-i-konflikten-fr%C3%B6lundakriminella-ville-d%C3%B6da-fler-1.53047576',\n",
       " '/nyheter/g%C3%B6teborg/misst%C3%A4nkte-polism%C3%B6rdaren-omh%C3%A4ktad-f%C3%B6r-tredje-g%C3%A5ngen-1.52982142',\n",
       " '/nyheter/g%C3%B6teborg/ung-man-anh%C3%A5llen-f%C3%B6r-skyddande-av-brottsling-efter-polismordet-1.53032533',\n",
       " '/nyheter/sverige/man-gripen-misst%C3%A4nkt-f%C3%B6r-mordf%C3%B6rs%C3%B6k-1.53008975',\n",
       " '/nyheter/sverige/kvinna-d%C3%B6ms-f%C3%B6r-mordf%C3%B6rs%C3%B6k-som-ett-blodbad-1.52982903',\n",
       " '/sport/rugbyprofil-fick-livshotande-skador-i-knivattack-1.52961659',\n",
       " '/nyheter/v%C3%A4stsverige/en-misst%C3%A4nkt-gripen-efter-skottlossning-i-bor%C3%A5s-1.52960792',\n",
       " '/nyheter/sverige/pistolman-greps-med-vapnet-i-hand-1.52937970',\n",
       " '/nyheter/g%C3%B6teborg/polisinsats-i-centrala-g%C3%B6teborg-vittnen-h%C3%B6rde-pistolskott-1.52921657',\n",
       " '/nyheter/g%C3%B6teborg/man-gripen-misst%C3%A4nkt-f%C3%B6r-mordf%C3%B6rs%C3%B6k-vid-bensinmack-1.52875030',\n",
       " '/nyheter/sverige/man-anh%C3%A5llen-f%C3%B6r-mordf%C3%B6rs%C3%B6k-i-flen-1.52826844',\n",
       " '/nyheter/sverige/misst%C3%A4nkt-mordf%C3%B6rs%C3%B6k-i-degerfors-1.52808836',\n",
       " '/nyheter/sverige/%C3%A5klagare-vi-ska-lyfta-p%C3%A5-alla-stenar-1.52765246',\n",
       " '/nyheter/sverige/sex-unga-m%C3%A4n-%C3%A5talas-f%C3%B6r-knivmord-1.52767305',\n",
       " '/nyheter/sverige/man-skadad-i-misst%C3%A4nkt-mordf%C3%B6rs%C3%B6k-1.52751397',\n",
       " '/nyheter/sverige/skottlossning-i-tensta-misst%C3%A4nkt-mordf%C3%B6rs%C3%B6k-1.52687784',\n",
       " '/nyheter/sverige/man-h%C3%A4ktad-f%C3%B6r-brutalt-%C3%B6verfall-i-lule%C3%A5-1.52666721',\n",
       " '/nyheter/sverige/flera-skott-mot-villa-i-halmstad-1.52636488',\n",
       " '/nyheter/sverige/misst%C3%A4nkt-f%C3%B6r-mordf%C3%B6rs%C3%B6k-i-lule%C3%A5-beg%C3%A4rd-h%C3%A4ktad-1.52639330',\n",
       " '/nyheter/sverige/mord-utanf%C3%B6r-skola-hovr%C3%A4tt-fastst%C3%A4ller-domen-1.52635585',\n",
       " '/nyheter/g%C3%B6teborg/skjutning-i-angered-en-person-skadad-1.52625051',\n",
       " '/nyheter/sverige/man-gripen-f%C3%B6r-mordf%C3%B6rs%C3%B6k-p%C3%A5-kvinna-i-nacka-1.52622525',\n",
       " '/nyheter/sverige/man-gripen-f%C3%B6r-mordf%C3%B6rs%C3%B6k-i-lule%C3%A5-1.52524068',\n",
       " '/nyheter/sverige/ingen-gripen-efter-skott-i-h%C3%A4sselby-1.52504777',\n",
       " '/nyheter/v%C3%A4rlden/tjetjen-f%C3%A5r-livstid-f%C3%B6r-mord-i-%C3%B6sterrike-1.52501205',\n",
       " '/nyheter/sverige/skottlossning-i-tensta-ingen-gripen-1.52494473',\n",
       " '/nyheter/sverige/barnfamilj-besk%C3%B6ts-i-bil-tv%C3%A5-m%C3%A4n-h%C3%A4ktade-1.52452859',\n",
       " '/nyheter/v%C3%A4stsverige/polisen-utreder-om-brott-kan-ligga-bakom-d%C3%B6dsfall-vid-vattendrag-1.52394266',\n",
       " '/nyheter/sverige/%C3%A5tta-%C3%A5rs-f%C3%A4ngelse-f%C3%B6r-mordf%C3%B6rs%C3%B6k-vid-h%C3%A5llplats-1.52390881',\n",
       " '/nyheter/sverige/man-gripen-f%C3%B6r-mordf%C3%B6rs%C3%B6k-i-j%C3%B6nk%C3%B6ping-1.52376362',\n",
       " '/nyheter/g%C3%B6teborg/d%C3%B6ms-och-utvisas-efter-brutalt-mordf%C3%B6rs%C3%B6k-i-guldheden-1.52299073',\n",
       " '/nyheter/sverige/efter-skottlossningen-jag-t%C3%A4nker-flytta-1.52352938',\n",
       " '/nyheter/sverige/misst%C3%A4nkt-mordf%C3%B6rs%C3%B6k-mot-minder%C3%A5rig-1.52342458',\n",
       " '/nyheter/sverige/tre-gripna-efter-skottlossning-i-kristianstad-1.52297066',\n",
       " '/nyheter/sverige/skottlossning-i-kristianstad-tre-allvarligt-skadade-1.52301797',\n",
       " '/nyheter/sverige/skottlossning-i-upplands-bro-tv%C3%A5-anh%C3%A5llna-1.52261976',\n",
       " '/kultur/kultur/strippfilmen-zola-%C3%A4r-baserad-p%C3%A5-en-viral-tweet-1.52229930',\n",
       " '/nyheter/sverige/minst-tv%C3%A5-%C3%B6ppnade-eld-mot-bil-i-upplands-bro-1.52245677',\n",
       " '/nyheter/sverige/man-anh%C3%A5llen-f%C3%B6r-skottlossning-i-v%C3%A4ster%C3%A5s-1.52242280',\n",
       " '/nyheter/sverige/tv%C3%A5-m%C3%A4n-anh%C3%A5llna-efter-mordf%C3%B6rs%C3%B6k-i-halmstad-1.52195021',\n",
       " '/nyheter/sverige/man-misst%C3%A4nkt-f%C3%B6r-mordf%C3%B6rs%C3%B6k-frisl%C3%A4ppt-1.52194157',\n",
       " '/kultur/kultur-n%C3%B6je/tiktok-stj%C3%A4rna-d%C3%B6d-efter-biografskjutning-1.52162838',\n",
       " '/nyheter/sverige/en-man-anh%C3%A5llen-efter-skottlossning-i-v%C3%A4ster%C3%A5s-1.52125680',\n",
       " '/nyheter/sverige/flera-skott-avlossade-i-v%C3%A4ster%C3%A5s-man-skadad-1.52113203',\n",
       " '/nyheter/sverige/en-gripen-f%C3%B6r-skottlossning-i-s%C3%B6dra-stockholm-1.52104967',\n",
       " '/nyheter/sverige/domen-f%C3%B6r-d%C3%A5det-i-vetlanda-%C3%B6verklagas-1.52093650',\n",
       " '/nyheter/g%C3%B6teborg/polisen-andreas-danman-begravdes-under-fredagen-1.52080807',\n",
       " '/nyheter/sverige/m%C3%A4n-slogs-med-kniv-och-tillhygge-p%C3%A5-boende-1.52050937',\n",
       " '/nyheter/g%C3%B6teborg/h%C3%A4r-%C3%A4r-domarna-mot-de-16-misst%C3%A4nkta-i-gamlestadsm%C3%A5let-1.52011856',\n",
       " '/nyheter/sverige/%C3%A5klagaren-%C3%A5tal-f%C3%B6r-hj%C3%A4llbomordet-dr%C3%B6jer-1.52006687',\n",
       " '/nyheter/sverige/tolv-%C3%A5rs-f%C3%A4ngelse-f%C3%B6r-skott-mot-altan-1.51981935',\n",
       " '/nyheter/sverige/man-h%C3%A4ktad-f%C3%B6r-mordf%C3%B6rs%C3%B6k-i-eskilstuna-1.51966236',\n",
       " '/nyheter/sverige/uppgifter-man-gripen-f%C3%B6r-flemingsbergskott-1.51858182',\n",
       " '/nyheter/sverige/man-skjuten-i-tensta-ingen-gripen-1.51808475',\n",
       " '/nyheter/sverige/kvinna-och-man-anh%C3%A5llna-f%C3%B6r-mordf%C3%B6rs%C3%B6k-1.51779103',\n",
       " '/nyheter/sverige/man-anh%C3%A5llen-f%C3%B6r-mordf%C3%B6rs%C3%B6k-i-link%C3%B6ping-1.51762967',\n",
       " '/nyheter/sverige/backade-mot-poliser-misst%C3%A4nks-f%C3%B6r-mordf%C3%B6rs%C3%B6k-1.51744556',\n",
       " '/nyheter/storg%C3%B6teborg/bilist-f%C3%B6rs%C3%B6kte-backa-p%C3%A5-polis-utreds-som-mordf%C3%B6rs%C3%B6k-1.51742894',\n",
       " '/nyheter/sverige/f%C3%B6rs%C3%B6kte-k%C3%B6ra-p%C3%A5-polis-fyra-gripna-1.51739960',\n",
       " '/nyheter/sverige/f%C3%A4ngelse-f%C3%B6r-knivhugg-p%C3%A5-krogen-1.51736653',\n",
       " '/kultur/kultur-n%C3%B6je/rapparen-fredo-bangs-gripen-1.51689318',\n",
       " '/nyheter/sverige/man-till-sjukhus-allvarligt-skadad-1.51687404',\n",
       " '/nyheter/v%C3%A4rlden/mordkomplott-mot-madagaskars-president-avv%C3%A4rjd-1.51636994',\n",
       " '/nyheter/sverige/man-allvarligt-skadad-i-knivattack-1.51615744',\n",
       " '/nyheter/g%C3%B6teborg/h%C3%A4r-%C3%A4r-den-misst%C3%A4nkte-polism%C3%B6rdaren-1.51523815',\n",
       " '/nyheter/sverige/ex-advokaten-edip-samuelsson-om-uteslutningen-borde-agerat-annorlunda-1.51542307',\n",
       " '/debatt/lagen-om-barnfridsbrott-m%C3%A5ste-omfatta-hedersutsatta-1.51461442',\n",
       " '/nyheter/sverige/t%C3%A4nde-eld-p%C3%A5-gardin-hos-anh%C3%B6rig-kvinna-d%C3%B6ms-1.51493007',\n",
       " '/nyheter/sverige/polis-utsatt-f%C3%B6r-mordf%C3%B6rs%C3%B6k-1.51422504',\n",
       " '/nyheter/sverige/v%C3%A5rbyn%C3%A4tverket-kommer-v%C3%A4xa-sig-starkt-igen-1.51409970',\n",
       " '/nyheter/sverige/tv%C3%A5-skjutna-i-vis%C3%A4ttra-flera-gripna-1.51401068',\n",
       " '/nyheter/g%C3%B6teborg/man-hittad-knivskuren-i-l%C3%B6vg%C3%A4rdet-misst%C3%A4nkt-mordf%C3%B6rs%C3%B6k-1.51373033',\n",
       " '/nyheter/sverige/tv%C3%A5-anh%C3%A5llna-efter-mordf%C3%B6rs%C3%B6k-i-stockholm-1.51306341',\n",
       " '/nyheter/g%C3%B6teborg/17-%C3%A5ringen-omh%C3%A4ktad-efter-polismordet-1.51343616',\n",
       " '/nyheter/sverige/pojke-omh%C3%A4ktad-f%C3%B6r-polismordet-i-g%C3%B6teborg-1.51335115',\n",
       " '/kultur/kultur/joe-exotic-fr%C3%A5n-tiger-king-f%C3%A5r-l%C3%A4gre-f%C3%A4ngelsestraff-1.51322963',\n",
       " '/nyheter/sverige/riksdagen-sk%C3%A4rp-straffen-f%C3%B6r-unga-kriminella-1.51309071',\n",
       " '/nyheter/sverige/poserade-med-vapnet-i-rapvideo-f%C3%B6re-mord-p%C3%A5-barn-1.51266061',\n",
       " '/nyheter/sverige/mordf%C3%B6rs%C3%B6k-med-sv%C3%A4rd-i-uppsala-1.51278067',\n",
       " '/nyheter/sverige/man-gripen-f%C3%B6r-mordf%C3%B6rs%C3%B6k-i-enskede-1.51247033',\n",
       " '/nyheter/sverige/knivh%C3%B6gg-sju-p%C3%A5-%C3%B6ppen-gata-d%C3%B6md-till-livstids-f%C3%A4ngelse-1.51210702',\n",
       " '/nyheter/sverige/man-stickskadad-vid-tunnelbanestation-1.51190109',\n",
       " '/nyheter/sverige/en-person-anh%C3%A5llen-efter-mordf%C3%B6rs%C3%B6k-p%C3%A5-krog-1.51172175',\n",
       " '/kultur/kultur/rapparen-yasin-d%C3%B6ms-till-f%C3%A4ngelse-1.51203723',\n",
       " '/kultur/kultur-n%C3%B6je/50-cent-det-gick-inte-att-springa-fr%C3%A5n-mamma-1.51186671',\n",
       " '/nyheter/sverige/skottlossning-mot-l%C3%A4genhet-i-malm%C3%B6-1.51181878',\n",
       " '/nyheter/g%C3%B6teborg/ali-khan-n%C3%A4tverkets-advokat-utesluts-ur-advokatsamfundet-1.51146445',\n",
       " '/nyheter/sverige/tv%C3%A5-m%C3%A4n-knivskurna-i-g%C3%B6teborg-1.51090311',\n",
       " '/nyheter/g%C3%B6teborg/mordf%C3%B6rs%C3%B6k-i-majorna-i-natt-1.51088143',\n",
       " '/nyheter/sverige/en-anh%C3%A5llen-f%C3%B6r-mordf%C3%B6rs%C3%B6k-i-ronneby-1.51041868',\n",
       " '/nyheter/sverige/misst%C3%A4nkt-mordf%C3%B6rs%C3%B6k-i-trelleborg-1.51041521',\n",
       " '/nyheter/v%C3%A4rlden/tv-program-st%C3%A4lldes-in-efter-hot-1.51037300',\n",
       " '/nyheter/sverige/ny-skottlossning-i-malm%C3%B6-1.51004240',\n",
       " '/nyheter/sverige/knivh%C3%B6gg-granne-som-inte-ville-ge-skjuts-1.51028674',\n",
       " '/nyheter/sverige/mordf%C3%B6rs%C3%B6k-i-botaniska-tr%C3%A4dg%C3%A5rden-i-lund-1.51026065',\n",
       " '/nyheter/sverige/sk%C3%A4rskadad-man-till-sjukhus-i-uppsala-1.51018257',\n",
       " '/nyheter/sverige/fler-minder%C3%A5riga-m%C3%B6rdar-i-g%C3%A4ngkrigen-1.51005999',\n",
       " '/nyheter/sverige/tv%C3%A5-skadade-i-knivbr%C3%A5k-i-stockholm-1.51003375',\n",
       " '/nyheter/v%C3%A4rlden/misst%C3%A4nkta-f%C3%B6r-journalistskott-kvar-i-h%C3%A4kte-1.50992903',\n",
       " '/nyheter/g%C3%B6teborg/man-knivskuren-p%C3%A5-boende-1.50920368',\n",
       " '/nyheter/sverige/mordf%C3%B6rs%C3%B6k-i-skellefte%C3%A5-en-gripen-1.50917123',\n",
       " '/nyheter/g%C3%B6teborg/en-h%C3%A4ktad-efter-knivsk%C3%A4rning-vid-h%C3%A4rlanda-tj%C3%A4rn-kan-k%C3%A4nna-offret-1.50907927',\n",
       " '/nyheter/sverige/man-gripen-f%C3%B6r-inblandning-i-mord-p%C3%A5-tolv%C3%A5ring-1.50907626',\n",
       " '/nyheter/sverige/skottlossning-p%C3%A5-restaurang-i-link%C3%B6ping-1.50898182',\n",
       " '/nyheter/sverige/skott-in-i-gammal-dams-l%C3%A4genhet-1.50866991',\n",
       " '/nyheter/g%C3%B6teborg/m%C3%B6rka-veckan-efter-polismordet-i-biskopsg%C3%A5rden-1.50815094',\n",
       " '/nyheter/sverige/en-person-skjuten-i-jordbro-1.50798925',\n",
       " '/nyheter/sverige/h%C3%B6gg-man-med-kniv-%C3%A5talas-1.50802389',\n",
       " '/ledare/tacken-f%C3%B6r-polisernas-jobb-usla-villkor-och-d%C3%A5lig-l%C3%B6n-1.50764801',\n",
       " '/nyheter/g%C3%B6teborg/92-medlemmar-i-g%C3%A4ng-och-klaner-inl%C3%A5sta-h%C3%A4r-%C3%A4r-listan-1.50709987',\n",
       " '/ledare/tre-%C3%A5r-p%C3%A5-v%C3%A5rdhem-inte-rimlig-p%C3%A5f%C3%B6ljd-f%C3%B6r-mord-1.50707088',\n",
       " '/nyheter/sverige/%C3%A5kesson-otryggheten-allvarligaste-fr%C3%A5gan-1.50726664',\n",
       " '/nyheter/sverige/fler-beg%C3%A4rs-h%C3%A4ktade-f%C3%B6r-mord-p%C3%A5-12-%C3%A5rig-flicka-1.50693129',\n",
       " '/nyheter/sverige/ingen-gripen-efter-knivattack-p%C3%A5-badplats-1.50694131',\n",
       " '/nyheter/sverige/17-%C3%A5ring-h%C3%A4ktad-f%C3%B6r-polismord-1.50630829',\n",
       " '/nyheter/g%C3%B6teborg/misst%C3%A4nkte-17-%C3%A5ringen-h%C3%A4ktas-f%C3%B6r-polismordet-1.50640906',\n",
       " '/nyheter/sverige/misst%C3%A4nkt-mordf%C3%B6rs%C3%B6k-en-allvarligt-skadad-1.50615802',\n",
       " '/nyheter/sverige/%C3%A5klagaren-beg%C3%A4r-17-%C3%A5ring-h%C3%A4ktad-f%C3%B6r-polismord-1.50587449',\n",
       " '/nyheter/g%C3%B6teborg/misst%C3%A4nkte-17-%C3%A5ringen-beg%C3%A4rs-h%C3%A4ktad-efter-polismordet-1.50599427',\n",
       " '/nyheter/sverige/tv%C3%A5-gripna-f%C3%B6r-mordf%C3%B6rs%C3%B6k-1.50583187',\n",
       " '/nyheter/g%C3%B6teborg/ton%C3%A5ring-gripen-f%C3%B6r-polismordet-i-biskopsg%C3%A5rden-1.50545586',\n",
       " '/nyheter/sverige/h%C3%B6gg-man-elva-g%C3%A5nger-f%C3%A5r-sex-%C3%A5rs-f%C3%A4ngelse-1.50544480',\n",
       " '/nyheter/g%C3%B6teborg/tio-%C3%A5r-av-g%C3%A4ngkrig-h%C3%A4r-skedde-polismordet-1.50487808',\n",
       " '/nyheter/sverige/vetlandamannen-inte-psykiskt-st%C3%B6rd-kan-f%C3%A5-f%C3%A4ngelse-1.50485085',\n",
       " '/nyheter/sverige/livstid-f%C3%B6r-d%C3%B6dsskjutning-vid-bensinmack-1.50456679',\n",
       " '/nyheter/g%C3%B6teborg/misst%C3%A4nkt-mordf%C3%B6rs%C3%B6k-g%C3%A4ngkopplad-man-sv%C3%A5rt-skadad-1.50372084',\n",
       " '/nyheter/g%C3%B6teborg/pojke-skulle-rymma-f%C3%B6rs%C3%B6kte-sl%C3%A5-ihj%C3%A4l-l%C3%A4rare-1.50333657',\n",
       " '/nyheter/v%C3%A4stsverige/man-sv%C3%A5rt-knivskuren-i-l%C3%A4genhet-p%C3%A5-tj%C3%B6rn-en-gripen-misst%C3%A4nkt-f%C3%B6r-mordf%C3%B6rs%C3%B6k-1.50299824',\n",
       " '/nyheter/sverige/tio-%C3%A5r-f%C3%B6r-mordf%C3%B6rs%C3%B6k-och-bilkapning-1.50289968',\n",
       " '/nyheter/g%C3%B6teborg/f%C3%B6rs%C3%B6kte-spr%C3%A4nga-g%C3%A4ngboss-h%C3%A4r-%C3%A4r-bombmakarens-dom-1.50192806',\n",
       " '/nyheter/sverige/detonation-och-skjutning-i-s%C3%B6dert%C3%A4lje-1.50222275',\n",
       " '/nyheter/sverige/misst%C3%A4nkt-mordf%C3%B6rs%C3%B6k-i-varberg-1.50198228',\n",
       " '/nyheter/v%C3%A4stsverige/storbr%C3%A5k-i-varberg-man-knivhuggen-1.50195200',\n",
       " '/nyheter/sverige/ung-man-h%C3%A4ktad-f%C3%B6r-mordf%C3%B6rs%C3%B6k-i-lidk%C3%B6ping-1.50149689',\n",
       " '/nyheter/g%C3%B6teborg/man-hade-skuld-till-hj%C3%A4llbon%C3%A4tverket-d%C3%A5-blev-pappan-m%C3%A5ltavla-1.50112765',\n",
       " '/nyheter/sverige/en-man-anh%C3%A5llen-efter-misst%C3%A4nkt-mordf%C3%B6rs%C3%B6k-1.50060119',\n",
       " '/nyheter/v%C3%A4stsverige/ung-man-hittades-allvarligt-knivskuren-i-lidk%C3%B6ping-1.50064424',\n",
       " '/nyheter/sverige/utpekad-v%C3%A5rbyledare-kvar-i-h%C3%A4kte-1.50002881',\n",
       " '/nyheter/sverige/en-anh%C3%A5llen-efter-larm-om-skottlossning-1.49979104',\n",
       " '/nyheter/sverige/ton%C3%A5ring-skadad-i-skottlossning-utanf%C3%B6r-laholm-1.49971784',\n",
       " '/nyheter/sverige/ingen-gripen-efter-knivhuggning-i-malm%C3%B6-1.49910625',\n",
       " '/nyheter/sverige/man-knivhuggen-i-malm%C3%B6-1.49908615',\n",
       " '/nyheter/sverige/frias-f%C3%B6r-f%C3%B6rlupna-skott-hos-fris%C3%B6r-1.49894135',\n",
       " '/nyheter/sverige/man-ihj%C3%A4lskjuten-vid-pizzeria-1.49830873',\n",
       " '/nyheter/sverige/tt-flash-en-h%C3%A4ktad-f%C3%B6r-mord-p%C3%A5-12-%C3%A5ring-1.49804322',\n",
       " '/nyheter/sverige/skott-mot-restaurang-utreds-som-mordf%C3%B6rs%C3%B6k-1.49781357',\n",
       " '/nyheter/sverige/tv%C3%A5-gripna-efter-mordf%C3%B6rs%C3%B6k-vid-kaf%C3%A9-1.49774023',\n",
       " '/nyheter/oklart-samband-mellan-skjutningar-i-g%C3%B6teborg-1.49765720',\n",
       " '/nyheter/g%C3%B6teborg/en-skadad-efter-skottlossning-i-hammarkullen-1.49722621',\n",
       " '/nyheter/sverige/fem-m%C3%A4n-h%C3%A4ktade-f%C3%B6r-grovt-r%C3%A5n-1.49678796',\n",
       " '/nyheter/sverige/f%C3%A4ngelse-och-friande-f%C3%B6r-norrk%C3%B6pingsmord-1.49667124',\n",
       " '/nyheter/sverige/tv%C3%A5-h%C3%A4ktade-efter-skott-i-hammarkullen-1.49691400',\n",
       " '/nyheter/g%C3%B6teborg/tidigare-mordd%C3%B6md-ali-khan-man-d%C3%B6ms-p%C3%A5-nytt-till-f%C3%A4ngelse-1.49681300',\n",
       " '/nyheter/sverige/misst%C3%A4nkt-erk%C3%A4nner-mord-p%C3%A5-hammar%C3%B6-1.49638063',\n",
       " '/nyheter/g%C3%B6teborg/tv%C3%A5-fr%C3%A5n-familjen-ali-khan-h%C3%A4ktade-f%C3%B6r-mordf%C3%B6rs%C3%B6k-1.49636142',\n",
       " '/nyheter/sverige/tre-misst%C3%A4nkta-f%C3%B6r-mordf%C3%B6rs%C3%B6k-har-sl%C3%A4ppts-1.49632063',\n",
       " '/nyheter/sverige/ny-misst%C3%A4nkt-f%C3%B6r-mord-p%C3%A5-sm%C3%A5barnsmamma-1.49604750',\n",
       " '/nyheter/g%C3%B6teborg/uppgifter-till-gp-g%C3%A4ngkriminell-sk%C3%B6ts-i-benet-vid-skola-1.49600434',\n",
       " '/nyheter/sverige/man-anh%C3%A5llen-f%C3%B6r-mordf%C3%B6rs%C3%B6k-1.49582930',\n",
       " '/nyheter/sverige/%C3%A5klagaren-vill-se-livstid-f%C3%B6r-v%C3%A5rbyledaren-1.49511496',\n",
       " '/nyheter/sverige/fem-anh%C3%A5llna-efter-skott-i-hammarkullen-1.49506725',\n",
       " '/nyheter/g%C3%B6teborg/fem-ur-sl%C3%A4kten-ali-khan-anh%C3%A5llna-efter-skottlossning-i-hammarkullen-1.49532603',\n",
       " '/nyheter/sverige/mordf%C3%B6rs%C3%B6k-i-j%C3%B6nk%C3%B6ping-tre-anh%C3%A5llna-1.49520733',\n",
       " '/nyheter/sverige/en-d%C3%B6d-efter-skador-vid-br%C3%A5k-i-v%C3%A4rmland-1.49497473',\n",
       " '/nyheter/g%C3%B6teborg/fem-gripna-efter-skottlossning-i-hammarkullen-1.49505221',\n",
       " '/nyheter/v%C3%A4rlden/mejade-ned-muslimsk-familj-terror%C3%A5talas-1.49451192',\n",
       " '/nyheter/sverige/stabilt-tillst%C3%A5nd-f%C3%B6r-skadade-i-v%C3%A4ster%C3%A5s-1.49439376',\n",
       " '/nyheter/sverige/tv%C3%A5-mordf%C3%B6rs%C3%B6k-i-v%C3%A4ster%C3%A5s-1.49415398',\n",
       " '/nyheter/sverige/terroroffer-kan-missa-ers%C3%A4ttning-1.49384580',\n",
       " '/nyheter/g%C3%B6teborg/ytterligare-fyra-personer-h%C3%A4ktas-efter-v%C3%A5ldsamma-upploppet-i-hj%C3%A4llbo-1.49302598',\n",
       " '/nyheter/v%C3%A4rlden/manifestation-mot-rasism-efter-lastbilsd%C3%A5d-1.49287882',\n",
       " '/nyheter/sverige/man-skjuten-i-j%C3%A4rf%C3%A4lla-flera-jagas-1.49271837']"
      ]
     },
     "execution_count": 52,
     "metadata": {},
     "output_type": "execute_result"
    }
   ],
   "source": [
    "links"
   ]
  },
  {
   "cell_type": "code",
   "execution_count": null,
   "id": "e4b91ea2",
   "metadata": {},
   "outputs": [],
   "source": []
  }
 ],
 "metadata": {
  "kernelspec": {
   "display_name": "Python 3 (ipykernel)",
   "language": "python",
   "name": "python3"
  },
  "language_info": {
   "codemirror_mode": {
    "name": "ipython",
    "version": 3
   },
   "file_extension": ".py",
   "mimetype": "text/x-python",
   "name": "python",
   "nbconvert_exporter": "python",
   "pygments_lexer": "ipython3",
   "version": "3.8.11"
  }
 },
 "nbformat": 4,
 "nbformat_minor": 5
}
