{
 "cells": [
  {
   "cell_type": "code",
   "execution_count": 11,
   "id": "f600c6aa",
   "metadata": {},
   "outputs": [],
   "source": [
    "import requests\n",
    "from bs4 import BeautifulSoup\n",
    "import re\n",
    "import pandas as pd"
   ]
  },
  {
   "cell_type": "code",
   "execution_count": 12,
   "id": "c18c519e",
   "metadata": {},
   "outputs": [],
   "source": [
    "PATTERN_HEADLINE_TEXT = re.compile(r\"(?<=\\\"headline\\\">)[A-Öa-ö 0-9.!?,-]+(?=<\\/h1>)\")\n",
    "PATTERN_BROAD_TEXT = re.compile(r\"(?<=css-10r2ygq\\\">)[A-Öa-ö 0-9.!?,-]+(?=<)\")\n",
    "PATTERN_LINK_TEXT = re.compile(r\"(?<=>)[A-Öa-ö 0-9.!?,-]+(?=<\\/a>)\")\n",
    "ARTICLE_DATE = re.compile(r\"(?<=Publicerad:)[A-Öa-ö 0-9.!?,-]+(?=\\\")\")"
   ]
  },
  {
   "cell_type": "code",
   "execution_count": 13,
   "id": "69e35289",
   "metadata": {},
   "outputs": [],
   "source": [
    "def collect_data(source_page):\n",
    "    title = re.findall(PATTERN_HEADLINE_TEXT, source_page)\n",
    "    date = re.findall(ARTICLE_DATE, source_page)\n",
    "    collected = []\n",
    "    for match in re.finditer(PATTERN_BROAD_TEXT, source_page):\n",
    "        text = match.group() + \" \"\n",
    "        span = match.span()\n",
    "        data = (span, text)\n",
    "        collected.append(data)\n",
    "\n",
    "    if not collected:\n",
    "        #return [\"NULL\"], \"NULL\", \"NULL\"\n",
    "        return \"NULL\",\"NULL\",\"NULL\"\n",
    "    if not title:\n",
    "        title = [\"NULL\"]\n",
    "    if not date:\n",
    "        date = [\"NULL\"]\n",
    "\n",
    "    # Find span for broad text\n",
    "    first_broad_span = collected[0][0][0]\n",
    "    last_broad_span = collected[-1][0][1]\n",
    "\n",
    "    # correct span for broad texts now when broadtext chunk span is found\n",
    "    collected = [((n[0][0] - first_broad_span, n[0][1] - first_broad_span), n[1]) for n in collected]\n",
    "\n",
    "    for match in re.finditer(PATTERN_LINK_TEXT, source_page[first_broad_span:last_broad_span]):\n",
    "        text = match.group() + \" \"\n",
    "        span = match.span()\n",
    "        data = (span, text)\n",
    "        collected.append(data)\n",
    "\n",
    "    collected.sort(key=lambda s: s[0])\n",
    "    text_final = \"\"\n",
    "    for data in collected:\n",
    "        text_final += data[1]\n",
    "\n",
    "    if not title:\n",
    "        title = [\"NULL\"]\n",
    "\n",
    "    return title[0], text_final, date[0]"
   ]
  },
  {
   "cell_type": "code",
   "execution_count": 39,
   "id": "0cb5cc01",
   "metadata": {},
   "outputs": [
    {
     "data": {
      "text/plain": [
       "0       https://www.aftonbladet.se/nyheter/a/GGkbjq/an...\n",
       "1       https://www.aftonbladet.se/nyheter/a/Qm5XXx/mi...\n",
       "2       https://www.aftonbladet.se/nyheter/a/Joyb46/mi...\n",
       "3       https://www.aftonbladet.se/nyheter/a/Al20Jx/ma...\n",
       "4       https://www.aftonbladet.se/nyheter/a/rAkno3/at...\n",
       "                              ...                        \n",
       "3287    https://www.aftonbladet.se/nyheter/a/gP0Q2a/sk...\n",
       "3288    https://www.aftonbladet.se/nojesbladet/tv/a/4d...\n",
       "3289    https://www.aftonbladet.se/nojesbladet/a/RxyB1...\n",
       "3290    https://www.aftonbladet.se/kultur/a/L01BX9/sty...\n",
       "3291    https://www.aftonbladet.se/nojesbladet/tv/a/6n...\n",
       "Name: link, Length: 3292, dtype: object"
      ]
     },
     "execution_count": 39,
     "metadata": {},
     "output_type": "execute_result"
    }
   ],
   "source": [
    "df = pd.read_csv(\"links_mord, göteborg.csv\", sep=\",\")\n",
    "links =  df[\"link\"]\n"
   ]
  },
  {
   "cell_type": "code",
   "execution_count": 19,
   "id": "cf00b921",
   "metadata": {},
   "outputs": [
    {
     "name": "stderr",
     "output_type": "stream",
     "text": [
      "Loading...: 100%|██████████| 3292/3292 [16:19<00:00,  3.36it/s]\n"
     ]
    }
   ],
   "source": [
    "from tqdm import tqdm\n",
    "\n",
    "dates=[]\n",
    "titles=[]\n",
    "texts=[]\n",
    "\n",
    "  \n",
    "for url in tqdm(links, desc=\"Loading...\"):\n",
    "#for url in links:\n",
    "    response = requests.get(url)\n",
    "    soup = BeautifulSoup(response.content)\n",
    "    #print(url)\n",
    "    #print(soup)\n",
    "    title, text, date = collect_data(str(soup))\n",
    "    dates.append(date)\n",
    "    titles.append(title)\n",
    "    texts.append(text)\n",
    "\n",
    "df2 = pd.DataFrame()\n",
    "df2[\"date\"] = dates  \n",
    "df2[\"title\"] = titles\n",
    "df2[\"text\"] = texts"
   ]
  },
  {
   "cell_type": "code",
   "execution_count": 20,
   "id": "e48b7f16",
   "metadata": {},
   "outputs": [
    {
     "data": {
      "text/html": [
       "<div>\n",
       "<style scoped>\n",
       "    .dataframe tbody tr th:only-of-type {\n",
       "        vertical-align: middle;\n",
       "    }\n",
       "\n",
       "    .dataframe tbody tr th {\n",
       "        vertical-align: top;\n",
       "    }\n",
       "\n",
       "    .dataframe thead th {\n",
       "        text-align: right;\n",
       "    }\n",
       "</style>\n",
       "<table border=\"1\" class=\"dataframe\">\n",
       "  <thead>\n",
       "    <tr style=\"text-align: right;\">\n",
       "      <th></th>\n",
       "      <th>date</th>\n",
       "      <th>title</th>\n",
       "      <th>text</th>\n",
       "    </tr>\n",
       "  </thead>\n",
       "  <tbody>\n",
       "    <tr>\n",
       "      <th>0</th>\n",
       "      <td>28 maj 2020 kl. 12.07</td>\n",
       "      <td>Anhållen efter misstänkt mord i Göteborg</td>\n",
       "      <td>Polisen misstänker att en man kan ha blivit mö...</td>\n",
       "    </tr>\n",
       "    <tr>\n",
       "      <th>1</th>\n",
       "      <td>07 januari 2021 kl. 08.35</td>\n",
       "      <td>Misstänkt mord i Göteborg</td>\n",
       "      <td>En man misstänks ha blivit mördad i samband me...</td>\n",
       "    </tr>\n",
       "    <tr>\n",
       "      <th>2</th>\n",
       "      <td>05 mars 2020 kl. 16.44</td>\n",
       "      <td>Misstänkt mord i Göteborg</td>\n",
       "      <td>Ett misstänkt mord utreds sedan en död person ...</td>\n",
       "    </tr>\n",
       "    <tr>\n",
       "      <th>3</th>\n",
       "      <td>17 september 2020 kl. 12.47</td>\n",
       "      <td>Man gripen för mord vid Heden i Göteborg</td>\n",
       "      <td>En man i 40-årsåldern har gripits som misstänk...</td>\n",
       "    </tr>\n",
       "    <tr>\n",
       "      <th>4</th>\n",
       "      <td>26 juni 2020 kl. 09.58</td>\n",
       "      <td>Åtalas för mord på kvinna i Göteborg</td>\n",
       "      <td>En man i 35-årsåldern åtalas vid  Göteborgs De...</td>\n",
       "    </tr>\n",
       "  </tbody>\n",
       "</table>\n",
       "</div>"
      ],
      "text/plain": [
       "                           date                                     title  \\\n",
       "0         28 maj 2020 kl. 12.07  Anhållen efter misstänkt mord i Göteborg   \n",
       "1     07 januari 2021 kl. 08.35                 Misstänkt mord i Göteborg   \n",
       "2        05 mars 2020 kl. 16.44                 Misstänkt mord i Göteborg   \n",
       "3   17 september 2020 kl. 12.47  Man gripen för mord vid Heden i Göteborg   \n",
       "4        26 juni 2020 kl. 09.58      Åtalas för mord på kvinna i Göteborg   \n",
       "\n",
       "                                                text  \n",
       "0  Polisen misstänker att en man kan ha blivit mö...  \n",
       "1  En man misstänks ha blivit mördad i samband me...  \n",
       "2  Ett misstänkt mord utreds sedan en död person ...  \n",
       "3  En man i 40-årsåldern har gripits som misstänk...  \n",
       "4  En man i 35-årsåldern åtalas vid  Göteborgs De...  "
      ]
     },
     "execution_count": 20,
     "metadata": {},
     "output_type": "execute_result"
    }
   ],
   "source": [
    "df2.head()"
   ]
  },
  {
   "cell_type": "code",
   "execution_count": 22,
   "id": "a6f5fa1b",
   "metadata": {},
   "outputs": [],
   "source": [
    "df2.to_csv(\"data_mord_aftonbladet.csv\", sep=\",\")"
   ]
  },
  {
   "cell_type": "code",
   "execution_count": 33,
   "id": "e4b91ea2",
   "metadata": {},
   "outputs": [],
   "source": [
    "day = [n.split(\" \")[1] if n != \"NULL\" else n for n in dates ]\n",
    "month = [n.split(\" \")[2] if n != \"NULL\" else n for n in dates ]\n",
    "year = [n.split(\" \")[3] if n != \"NULL\" else n for n in dates ]"
   ]
  },
  {
   "cell_type": "code",
   "execution_count": 40,
   "id": "ba20f393",
   "metadata": {},
   "outputs": [],
   "source": [
    "df2[\"day\"] = day\n",
    "df2[\"month\"] = month\n",
    "df2[\"year\"] = year\n",
    "df2[\"link\"] = df[\"link\"]"
   ]
  },
  {
   "cell_type": "code",
   "execution_count": 41,
   "id": "3bf34ce9",
   "metadata": {},
   "outputs": [
    {
     "data": {
      "text/html": [
       "<div>\n",
       "<style scoped>\n",
       "    .dataframe tbody tr th:only-of-type {\n",
       "        vertical-align: middle;\n",
       "    }\n",
       "\n",
       "    .dataframe tbody tr th {\n",
       "        vertical-align: top;\n",
       "    }\n",
       "\n",
       "    .dataframe thead th {\n",
       "        text-align: right;\n",
       "    }\n",
       "</style>\n",
       "<table border=\"1\" class=\"dataframe\">\n",
       "  <thead>\n",
       "    <tr style=\"text-align: right;\">\n",
       "      <th></th>\n",
       "      <th>date</th>\n",
       "      <th>title</th>\n",
       "      <th>text</th>\n",
       "      <th>day</th>\n",
       "      <th>month</th>\n",
       "      <th>year</th>\n",
       "      <th>link</th>\n",
       "    </tr>\n",
       "  </thead>\n",
       "  <tbody>\n",
       "    <tr>\n",
       "      <th>0</th>\n",
       "      <td>28 maj 2020 kl. 12.07</td>\n",
       "      <td>Anhållen efter misstänkt mord i Göteborg</td>\n",
       "      <td>Polisen misstänker att en man kan ha blivit mö...</td>\n",
       "      <td>28</td>\n",
       "      <td>maj</td>\n",
       "      <td>2020</td>\n",
       "      <td>https://www.aftonbladet.se/nyheter/a/GGkbjq/an...</td>\n",
       "    </tr>\n",
       "    <tr>\n",
       "      <th>1</th>\n",
       "      <td>07 januari 2021 kl. 08.35</td>\n",
       "      <td>Misstänkt mord i Göteborg</td>\n",
       "      <td>En man misstänks ha blivit mördad i samband me...</td>\n",
       "      <td>07</td>\n",
       "      <td>januari</td>\n",
       "      <td>2021</td>\n",
       "      <td>https://www.aftonbladet.se/nyheter/a/Qm5XXx/mi...</td>\n",
       "    </tr>\n",
       "    <tr>\n",
       "      <th>2</th>\n",
       "      <td>05 mars 2020 kl. 16.44</td>\n",
       "      <td>Misstänkt mord i Göteborg</td>\n",
       "      <td>Ett misstänkt mord utreds sedan en död person ...</td>\n",
       "      <td>05</td>\n",
       "      <td>mars</td>\n",
       "      <td>2020</td>\n",
       "      <td>https://www.aftonbladet.se/nyheter/a/Joyb46/mi...</td>\n",
       "    </tr>\n",
       "    <tr>\n",
       "      <th>3</th>\n",
       "      <td>17 september 2020 kl. 12.47</td>\n",
       "      <td>Man gripen för mord vid Heden i Göteborg</td>\n",
       "      <td>En man i 40-årsåldern har gripits som misstänk...</td>\n",
       "      <td>17</td>\n",
       "      <td>september</td>\n",
       "      <td>2020</td>\n",
       "      <td>https://www.aftonbladet.se/nyheter/a/Al20Jx/ma...</td>\n",
       "    </tr>\n",
       "    <tr>\n",
       "      <th>4</th>\n",
       "      <td>26 juni 2020 kl. 09.58</td>\n",
       "      <td>Åtalas för mord på kvinna i Göteborg</td>\n",
       "      <td>En man i 35-årsåldern åtalas vid  Göteborgs De...</td>\n",
       "      <td>26</td>\n",
       "      <td>juni</td>\n",
       "      <td>2020</td>\n",
       "      <td>https://www.aftonbladet.se/nyheter/a/rAkno3/at...</td>\n",
       "    </tr>\n",
       "  </tbody>\n",
       "</table>\n",
       "</div>"
      ],
      "text/plain": [
       "                           date                                     title  \\\n",
       "0         28 maj 2020 kl. 12.07  Anhållen efter misstänkt mord i Göteborg   \n",
       "1     07 januari 2021 kl. 08.35                 Misstänkt mord i Göteborg   \n",
       "2        05 mars 2020 kl. 16.44                 Misstänkt mord i Göteborg   \n",
       "3   17 september 2020 kl. 12.47  Man gripen för mord vid Heden i Göteborg   \n",
       "4        26 juni 2020 kl. 09.58      Åtalas för mord på kvinna i Göteborg   \n",
       "\n",
       "                                                text day      month  year  \\\n",
       "0  Polisen misstänker att en man kan ha blivit mö...  28        maj  2020   \n",
       "1  En man misstänks ha blivit mördad i samband me...  07    januari  2021   \n",
       "2  Ett misstänkt mord utreds sedan en död person ...  05       mars  2020   \n",
       "3  En man i 40-årsåldern har gripits som misstänk...  17  september  2020   \n",
       "4  En man i 35-årsåldern åtalas vid  Göteborgs De...  26       juni  2020   \n",
       "\n",
       "                                                link  \n",
       "0  https://www.aftonbladet.se/nyheter/a/GGkbjq/an...  \n",
       "1  https://www.aftonbladet.se/nyheter/a/Qm5XXx/mi...  \n",
       "2  https://www.aftonbladet.se/nyheter/a/Joyb46/mi...  \n",
       "3  https://www.aftonbladet.se/nyheter/a/Al20Jx/ma...  \n",
       "4  https://www.aftonbladet.se/nyheter/a/rAkno3/at...  "
      ]
     },
     "execution_count": 41,
     "metadata": {},
     "output_type": "execute_result"
    }
   ],
   "source": [
    "df2.head()"
   ]
  },
  {
   "cell_type": "code",
   "execution_count": 42,
   "id": "ac150588",
   "metadata": {},
   "outputs": [],
   "source": [
    "df2.to_csv(\"data_mord_aftonbladet.csv\", sep=\",\")"
   ]
  },
  {
   "cell_type": "code",
   "execution_count": null,
   "id": "765dee07",
   "metadata": {},
   "outputs": [],
   "source": []
  },
  {
   "cell_type": "code",
   "execution_count": null,
   "id": "58dbf286",
   "metadata": {},
   "outputs": [],
   "source": []
  },
  {
   "cell_type": "code",
   "execution_count": null,
   "id": "2e422d3f",
   "metadata": {},
   "outputs": [],
   "source": []
  },
  {
   "cell_type": "code",
   "execution_count": null,
   "id": "1151840b",
   "metadata": {},
   "outputs": [],
   "source": []
  },
  {
   "cell_type": "code",
   "execution_count": null,
   "id": "058fb51a",
   "metadata": {},
   "outputs": [],
   "source": []
  },
  {
   "cell_type": "code",
   "execution_count": null,
   "id": "9b6e48cd",
   "metadata": {},
   "outputs": [],
   "source": []
  },
  {
   "cell_type": "code",
   "execution_count": null,
   "id": "9eb7f2dc",
   "metadata": {},
   "outputs": [],
   "source": []
  },
  {
   "cell_type": "code",
   "execution_count": null,
   "id": "115a4b06",
   "metadata": {},
   "outputs": [],
   "source": []
  },
  {
   "cell_type": "code",
   "execution_count": null,
   "id": "06654e76",
   "metadata": {},
   "outputs": [],
   "source": []
  },
  {
   "cell_type": "code",
   "execution_count": null,
   "id": "05bfd47f",
   "metadata": {},
   "outputs": [],
   "source": []
  },
  {
   "cell_type": "code",
   "execution_count": null,
   "id": "3847d86a",
   "metadata": {},
   "outputs": [],
   "source": []
  },
  {
   "cell_type": "code",
   "execution_count": null,
   "id": "f9977d86",
   "metadata": {},
   "outputs": [],
   "source": []
  }
 ],
 "metadata": {
  "kernelspec": {
   "display_name": "Python 3 (ipykernel)",
   "language": "python",
   "name": "python3"
  },
  "language_info": {
   "codemirror_mode": {
    "name": "ipython",
    "version": 3
   },
   "file_extension": ".py",
   "mimetype": "text/x-python",
   "name": "python",
   "nbconvert_exporter": "python",
   "pygments_lexer": "ipython3",
   "version": "3.8.11"
  }
 },
 "nbformat": 4,
 "nbformat_minor": 5
}
