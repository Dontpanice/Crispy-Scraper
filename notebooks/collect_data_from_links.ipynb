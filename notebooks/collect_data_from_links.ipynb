{
 "cells": [
  {
   "cell_type": "code",
   "execution_count": 4,
   "id": "15bff421",
   "metadata": {},
   "outputs": [],
   "source": [
    "import requests\n",
    "from bs4 import BeautifulSoup\n",
    "import re\n",
    "import pandas as pd"
   ]
  },
  {
   "cell_type": "code",
   "execution_count": 5,
   "id": "a13585c4",
   "metadata": {},
   "outputs": [],
   "source": [
    "PATTERN_HEADLINE_TEXT = re.compile(r\"(?<=\\\"headline\\\">)[A-Öa-ö 0-9.!?,-s]+(?=<\\/h1>)\")\n",
    "PATTERN_BROAD_TEXT = re.compile(r\"(?<=fomaker.se\\/idf\\/1.0\\\">)[A-Öa-ö -0-9.!?,–]+(?=<\\/element>)\")\n",
    "PATTERN_LINK_TEXT = re.compile(r\"(?<=\\\"c-article__body__content\\\">)[\\nA-Öa-ö -0-9.!?,–<>=:0-9]+\")\n",
    "ARTICLE_DATE = re.compile(r'(?<=datetime\\=)[A-Öa-ö 0-9.!?,-:\"]+(?=\\sitemprop\\=\\\"datePublished\\\">)')"
   ]
  },
  {
   "cell_type": "code",
   "execution_count": 6,
   "id": "14d6ceb3",
   "metadata": {},
   "outputs": [],
   "source": [
    "url = \"https://gp.se/nyheter/världen/navalnyj-tvingas-titta-på-tv-i-fängelset-1.53513690\"\n",
    "response = requests.get(url)\n",
    "soup = BeautifulSoup(response.content)"
   ]
  },
  {
   "cell_type": "code",
   "execution_count": 7,
   "id": "c2070cf2",
   "metadata": {},
   "outputs": [],
   "source": [
    "title = re.findall(PATTERN_LINK_TEXT, str(soup))"
   ]
  },
  {
   "cell_type": "code",
   "execution_count": 9,
   "id": "52d3cac9",
   "metadata": {},
   "outputs": [],
   "source": [
    "def collect_data(source_page):\n",
    "    title = re.findall(PATTERN_HEADLINE_TEXT, source_page)\n",
    "    date = re.findall(ARTICLE_DATE, source_page)\n",
    "    collected = []\n",
    "    for match in re.finditer(PATTERN_BROAD_TEXT, source_page):\n",
    "        text = match.group() + \" \"\n",
    "        span = match.span()\n",
    "        data = (span, text)\n",
    "        collected.append(data)\n",
    "\n",
    "    if not collected:\n",
    "        #return [\"NULL\"], \"NULL\", \"NULL\"\n",
    "        return \"NULL\",\"NULL\",\"NULL\"\n",
    "    if not title:\n",
    "        title = [\"NULL\"]\n",
    "    if not date:\n",
    "        date = [\"NULL\"]\n",
    "\n",
    "    # Find span for broad text\n",
    "    first_broad_span = collected[0][0][0]\n",
    "    last_broad_span = collected[-1][0][1]\n",
    "    \n",
    "    print(first_broad_span, last_broad_span)\n",
    "\n",
    "    # correct span for broad texts now when broadtext chunk span is found\n",
    "    collected = [((n[0][0] - first_broad_span, n[0][1] - first_broad_span), n[1]) for n in collected]\n",
    "\n",
    "    for match in re.finditer(PATTERN_LINK_TEXT, source_page[first_broad_span:last_broad_span]):\n",
    "        text = match.group() + \" \"\n",
    "        span = match.span()\n",
    "        data = (span, text)\n",
    "        collected.append(data)\n",
    "\n",
    "    collected.sort(key=lambda s: s[0])\n",
    "    text_final = \"\"\n",
    "    for data in collected:\n",
    "        text_final += data[1]\n",
    "\n",
    "    if not title:\n",
    "        title = [\"NULL\"]\n",
    "\n",
    "    return title[0], text_final, date[0]"
   ]
  },
  {
   "cell_type": "code",
   "execution_count": 71,
   "id": "80c9f982",
   "metadata": {},
   "outputs": [
    {
     "name": "stdout",
     "output_type": "stream",
     "text": [
      "90870 91206\n"
     ]
    },
    {
     "data": {
      "text/plain": [
       "('Navalnyj: Tvingas titta på tv i fängelset',\n",
       " 'Ryske oppositionsledaren Aleksej Navalnyj – som hålls fängslad – tvingas titta på statlig tv och propagandafilmer i mer än åtta timmar om dagen. Det säger Navalnyj i sin första intervju med en nyhetsredaktion sedan gripandet i januari. ',\n",
       " '\"2021-08-25T19:01:48Z\"')"
      ]
     },
     "execution_count": 71,
     "metadata": {},
     "output_type": "execute_result"
    }
   ],
   "source": [
    "from tqdm import tqdm\n",
    "\n",
    "dates=[]\n",
    "titles=[]\n",
    "texts=[]\n",
    "\n",
    "  \n",
    "for url in tqdm(links, desc=\"Loading...\"):\n",
    "#for url in links:\n",
    "    response = requests.get(url)\n",
    "    soup = BeautifulSoup(response.content)\n",
    "    #print(url)\n",
    "    #print(soup)\n",
    "    title, text, date = collect_data(str(soup))\n",
    "    dates.append(date)\n",
    "    titles.append(title)\n",
    "    texts.append(text)\n",
    "\n",
    "df2 = pd.DataFrame()\n",
    "df2[\"date\"] = dates  \n",
    "df2[\"title\"] = titles\n",
    "df2[\"text\"] = texts"
   ]
  },
  {
   "cell_type": "code",
   "execution_count": null,
   "id": "5486446e",
   "metadata": {},
   "outputs": [],
   "source": []
  }
 ],
 "metadata": {
  "kernelspec": {
   "display_name": "sinos",
   "language": "python",
   "name": "sinos"
  },
  "language_info": {
   "codemirror_mode": {
    "name": "ipython",
    "version": 3
   },
   "file_extension": ".py",
   "mimetype": "text/x-python",
   "name": "python",
   "nbconvert_exporter": "python",
   "pygments_lexer": "ipython3",
   "version": "3.8.11"
  }
 },
 "nbformat": 4,
 "nbformat_minor": 5
}
