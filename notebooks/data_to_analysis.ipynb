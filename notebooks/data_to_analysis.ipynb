{
 "cells": [
  {
   "cell_type": "code",
   "execution_count": 1,
   "id": "f172d1bb",
   "metadata": {},
   "outputs": [],
   "source": [
    "import pandas as pd"
   ]
  },
  {
   "cell_type": "code",
   "execution_count": 2,
   "id": "619b8ece",
   "metadata": {},
   "outputs": [
    {
     "data": {
      "text/html": [
       "<div>\n",
       "<style scoped>\n",
       "    .dataframe tbody tr th:only-of-type {\n",
       "        vertical-align: middle;\n",
       "    }\n",
       "\n",
       "    .dataframe tbody tr th {\n",
       "        vertical-align: top;\n",
       "    }\n",
       "\n",
       "    .dataframe thead th {\n",
       "        text-align: right;\n",
       "    }\n",
       "</style>\n",
       "<table border=\"1\" class=\"dataframe\">\n",
       "  <thead>\n",
       "    <tr style=\"text-align: right;\">\n",
       "      <th></th>\n",
       "      <th>Unnamed: 0</th>\n",
       "      <th>date</th>\n",
       "      <th>title</th>\n",
       "      <th>text</th>\n",
       "      <th>day</th>\n",
       "      <th>month</th>\n",
       "      <th>year</th>\n",
       "      <th>link</th>\n",
       "    </tr>\n",
       "  </thead>\n",
       "  <tbody>\n",
       "    <tr>\n",
       "      <th>0</th>\n",
       "      <td>0</td>\n",
       "      <td>28 maj 2020 kl. 12.07</td>\n",
       "      <td>Anhållen efter misstänkt mord i Göteborg</td>\n",
       "      <td>Polisen misstänker att en man kan ha blivit mö...</td>\n",
       "      <td>28.0</td>\n",
       "      <td>maj</td>\n",
       "      <td>2020.0</td>\n",
       "      <td>https://www.aftonbladet.se/nyheter/a/GGkbjq/an...</td>\n",
       "    </tr>\n",
       "    <tr>\n",
       "      <th>1</th>\n",
       "      <td>1</td>\n",
       "      <td>07 januari 2021 kl. 08.35</td>\n",
       "      <td>Misstänkt mord i Göteborg</td>\n",
       "      <td>En man misstänks ha blivit mördad i samband me...</td>\n",
       "      <td>7.0</td>\n",
       "      <td>januari</td>\n",
       "      <td>2021.0</td>\n",
       "      <td>https://www.aftonbladet.se/nyheter/a/Qm5XXx/mi...</td>\n",
       "    </tr>\n",
       "    <tr>\n",
       "      <th>2</th>\n",
       "      <td>2</td>\n",
       "      <td>05 mars 2020 kl. 16.44</td>\n",
       "      <td>Misstänkt mord i Göteborg</td>\n",
       "      <td>Ett misstänkt mord utreds sedan en död person ...</td>\n",
       "      <td>5.0</td>\n",
       "      <td>mars</td>\n",
       "      <td>2020.0</td>\n",
       "      <td>https://www.aftonbladet.se/nyheter/a/Joyb46/mi...</td>\n",
       "    </tr>\n",
       "    <tr>\n",
       "      <th>3</th>\n",
       "      <td>3</td>\n",
       "      <td>17 september 2020 kl. 12.47</td>\n",
       "      <td>Man gripen för mord vid Heden i Göteborg</td>\n",
       "      <td>En man i 40-årsåldern har gripits som misstänk...</td>\n",
       "      <td>17.0</td>\n",
       "      <td>september</td>\n",
       "      <td>2020.0</td>\n",
       "      <td>https://www.aftonbladet.se/nyheter/a/Al20Jx/ma...</td>\n",
       "    </tr>\n",
       "    <tr>\n",
       "      <th>4</th>\n",
       "      <td>4</td>\n",
       "      <td>26 juni 2020 kl. 09.58</td>\n",
       "      <td>Åtalas för mord på kvinna i Göteborg</td>\n",
       "      <td>En man i 35-årsåldern åtalas vid  Göteborgs De...</td>\n",
       "      <td>26.0</td>\n",
       "      <td>juni</td>\n",
       "      <td>2020.0</td>\n",
       "      <td>https://www.aftonbladet.se/nyheter/a/rAkno3/at...</td>\n",
       "    </tr>\n",
       "  </tbody>\n",
       "</table>\n",
       "</div>"
      ],
      "text/plain": [
       "   Unnamed: 0                          date  \\\n",
       "0           0         28 maj 2020 kl. 12.07   \n",
       "1           1     07 januari 2021 kl. 08.35   \n",
       "2           2        05 mars 2020 kl. 16.44   \n",
       "3           3   17 september 2020 kl. 12.47   \n",
       "4           4        26 juni 2020 kl. 09.58   \n",
       "\n",
       "                                      title  \\\n",
       "0  Anhållen efter misstänkt mord i Göteborg   \n",
       "1                 Misstänkt mord i Göteborg   \n",
       "2                 Misstänkt mord i Göteborg   \n",
       "3  Man gripen för mord vid Heden i Göteborg   \n",
       "4      Åtalas för mord på kvinna i Göteborg   \n",
       "\n",
       "                                                text   day      month    year  \\\n",
       "0  Polisen misstänker att en man kan ha blivit mö...  28.0        maj  2020.0   \n",
       "1  En man misstänks ha blivit mördad i samband me...   7.0    januari  2021.0   \n",
       "2  Ett misstänkt mord utreds sedan en död person ...   5.0       mars  2020.0   \n",
       "3  En man i 40-årsåldern har gripits som misstänk...  17.0  september  2020.0   \n",
       "4  En man i 35-årsåldern åtalas vid  Göteborgs De...  26.0       juni  2020.0   \n",
       "\n",
       "                                                link  \n",
       "0  https://www.aftonbladet.se/nyheter/a/GGkbjq/an...  \n",
       "1  https://www.aftonbladet.se/nyheter/a/Qm5XXx/mi...  \n",
       "2  https://www.aftonbladet.se/nyheter/a/Joyb46/mi...  \n",
       "3  https://www.aftonbladet.se/nyheter/a/Al20Jx/ma...  \n",
       "4  https://www.aftonbladet.se/nyheter/a/rAkno3/at...  "
      ]
     },
     "execution_count": 2,
     "metadata": {},
     "output_type": "execute_result"
    }
   ],
   "source": [
    "df = pd.read_csv(\"data_mord_aftonbladet.csv\", sep=\",\")\n",
    "df.head()"
   ]
  },
  {
   "cell_type": "code",
   "execution_count": 3,
   "id": "ad84cde6",
   "metadata": {},
   "outputs": [
    {
     "data": {
      "text/plain": [
       "0                Anhållen efter misstänkt mord i Göteborg\n",
       "1                               Misstänkt mord i Göteborg\n",
       "2                               Misstänkt mord i Göteborg\n",
       "3                Man gripen för mord vid Heden i Göteborg\n",
       "4                    Åtalas för mord på kvinna i Göteborg\n",
       "                              ...                        \n",
       "3287             Sköt sin hustru till döds i familjedrama\n",
       "3288           Storsvindlarna fick ett helt bolag på fall\n",
       "3289                              Det här är en drömroll \n",
       "3290                  Styckmord, sadism, nazism  feminism\n",
       "3291    Kip,15, mördade sina föräldrar och två skolkam...\n",
       "Name: title, Length: 3292, dtype: object"
      ]
     },
     "execution_count": 3,
     "metadata": {},
     "output_type": "execute_result"
    }
   ],
   "source": [
    "df[\"title\"]"
   ]
  },
  {
   "cell_type": "code",
   "execution_count": null,
   "id": "c02bc1f4",
   "metadata": {},
   "outputs": [],
   "source": []
  },
  {
   "cell_type": "code",
   "execution_count": null,
   "id": "be6ecf40",
   "metadata": {},
   "outputs": [],
   "source": []
  }
 ],
 "metadata": {
  "kernelspec": {
   "display_name": "Python 3 (ipykernel)",
   "language": "python",
   "name": "python3"
  },
  "language_info": {
   "codemirror_mode": {
    "name": "ipython",
    "version": 3
   },
   "file_extension": ".py",
   "mimetype": "text/x-python",
   "name": "python",
   "nbconvert_exporter": "python",
   "pygments_lexer": "ipython3",
   "version": "3.8.11"
  }
 },
 "nbformat": 4,
 "nbformat_minor": 5
}
